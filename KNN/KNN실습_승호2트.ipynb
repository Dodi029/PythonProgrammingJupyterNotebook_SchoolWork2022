{
 "cells": [
  {
   "cell_type": "code",
   "execution_count": 1,
   "metadata": {},
   "outputs": [],
   "source": [
    "import pandas as pd\n",
    "import numpy as np\n",
    "import random\n",
    "\n",
    "data_set = pd.read_csv('/Users/doyoung/학교/Python_Programming_JupyterNotebook/데이터/iris.csv',sep=',')"
   ]
  },
  {
   "cell_type": "code",
   "execution_count": 2,
   "metadata": {},
   "outputs": [],
   "source": [
    "#data_set.head()"
   ]
  },
  {
   "cell_type": "code",
   "execution_count": 3,
   "metadata": {},
   "outputs": [],
   "source": [
    "tr_data = data_set.sample(frac = 0.75, random_state = 100)\n",
    "sample_data = data_set.drop(tr_data.index)"
   ]
  },
  {
   "cell_type": "code",
   "execution_count": 4,
   "metadata": {},
   "outputs": [],
   "source": [
    "class KNN():\n",
    "    def split(self,data):\n",
    "        X = []\n",
    "        Y = []\n",
    "    \n",
    "        data_xy = np.array(data)\n",
    "    \n",
    "        for i in range(len(data)):\n",
    "            X.append(data_xy[i][0:4])\n",
    "            Y.append(data_xy[i][4])\n",
    "    \n",
    "        X = np.array(X)\n",
    "        X = X.astype(np.float64)\n",
    "        Y = np.array(Y)\n",
    "\n",
    "        return X, Y\n",
    "\n",
    "    def eu_d(self,x1, x2):\n",
    "        dis = np.sqrt(np.sum((x1 - x2)**2))\n",
    "        return round(dis,2)\n",
    "\n",
    "    def search_neighbors(self,X, test_sample, k=3):\n",
    "        dis_index = []\n",
    "    \n",
    "        for i,tr_sample in enumerate(X):\n",
    "            dis = self.eu_d(tr_sample, test_sample)\n",
    "        \n",
    "            dis_index.append((dis,tr_sample,i))\n",
    "    \n",
    "    \n",
    "        dis_index.sort(key = lambda x : x[0])\n",
    "        n = dis_index[1:k+1]\n",
    "        return n\n",
    "\n",
    "    def prediction(self,x_tr, y_tr, test_sample,k=3):\n",
    "        neighbors = self.search_neighbors(x_tr,test_sample,k)\n",
    "        neigh_index = []\n",
    "        for neigh in neighbors:\n",
    "            neigh_index.append(neigh[2])\n",
    "        neigh_y = y_tr[neigh_index]\n",
    "        classes , counts = np.unique(neigh_y, return_counts = True)\n",
    "        pred = classes[np.argmax(counts)]\n",
    "        return pred, neigh_y"
   ]
  },
  {
   "cell_type": "code",
   "execution_count": 8,
   "metadata": {},
   "outputs": [],
   "source": [
    "t = KNN()\n",
    "tr = t.split(tr_data)\n",
    "sp = t.split(sample_data)\n",
    "n = random.randint(0,len(sp[0]))\n",
    "test_sample = sp[0][n,:]\n",
    "#test_sample"
   ]
  },
  {
   "cell_type": "code",
   "execution_count": 12,
   "metadata": {},
   "outputs": [
    {
     "name": "stdout",
     "output_type": "stream",
     "text": [
      "예측값 : Iris-virginica\n",
      "근접 Y : ['Iris-virginica' 'Iris-virginica' 'Iris-virginica' 'Iris-virginica'\n",
      " 'Iris-virginica' 'Iris-virginica' 'Iris-virginica' 'Iris-virginica'\n",
      " 'Iris-virginica' 'Iris-virginica']\n",
      "실제 값 : Iris-versicolor\n"
     ]
    }
   ],
   "source": [
    "total_pred = []\n",
    "for index, test_sample in enumerate(sp[0]):\n",
    "    pred, neigh_y = t.prediction(tr[0],tr[1],test_sample,10)\n",
    "    total_pred.append(pred)\n",
    "\n",
    "print('예측값 :', pred)\n",
    "print('근접 Y :', neigh_y)\n",
    "print('실제 값 :',sp[1][n])"
   ]
  },
  {
   "cell_type": "code",
   "execution_count": 13,
   "metadata": {},
   "outputs": [],
   "source": [
    "total_accuracy = sum(total_pred==sp[1])/len(sp[1])\n",
    "total_err_rate = 1-total_accuracy"
   ]
  },
  {
   "cell_type": "code",
   "execution_count": 14,
   "metadata": {},
   "outputs": [
    {
     "name": "stdout",
     "output_type": "stream",
     "text": [
      "정확도 : 97.37% \n",
      "오류율 : 2.63%\n"
     ]
    }
   ],
   "source": [
    "print('정확도 : {:.2f}% '.format(total_accuracy*100))\n",
    "print('오류율 : {:.2f}%'.format(total_err_rate*100))"
   ]
  },
  {
   "cell_type": "code",
   "execution_count": null,
   "metadata": {},
   "outputs": [],
   "source": []
  }
 ],
 "metadata": {
  "kernelspec": {
   "display_name": "Python 3 (ipykernel)",
   "language": "python",
   "name": "python3"
  },
  "language_info": {
   "codemirror_mode": {
    "name": "ipython",
    "version": 3
   },
   "file_extension": ".py",
   "mimetype": "text/x-python",
   "name": "python",
   "nbconvert_exporter": "python",
   "pygments_lexer": "ipython3",
   "version": "3.9.12"
  }
 },
 "nbformat": 4,
 "nbformat_minor": 2
}
