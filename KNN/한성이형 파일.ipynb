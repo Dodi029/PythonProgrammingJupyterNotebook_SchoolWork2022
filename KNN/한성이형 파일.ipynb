{
 "cells": [
  {
   "cell_type": "code",
   "execution_count": 22,
   "id": "d7b4a609",
   "metadata": {},
   "outputs": [],
   "source": [
    "import os\n",
    "import pandas as pd\n",
    "import numpy as np\n",
    "import matplotlib.pyplot as plt\n",
    "\n",
    "path = '/Users/doyoung/학교/Python_Programming_JupyterNotebook/데이터/iris.csv'"
   ]
  },
  {
   "cell_type": "code",
   "execution_count": 23,
   "id": "18368f10",
   "metadata": {},
   "outputs": [],
   "source": [
    "data = pd.read_csv(path,sep=',')"
   ]
  },
  {
   "cell_type": "code",
   "execution_count": 43,
   "id": "23f9b508",
   "metadata": {},
   "outputs": [],
   "source": [
    "Y = data['class']\n",
    "X = data.drop(['class'],axis=1)"
   ]
  },
  {
   "cell_type": "code",
   "execution_count": null,
   "id": "c4c674c0",
   "metadata": {},
   "outputs": [],
   "source": [
    "def train_test_split(X,Y,test_size=0.25,random=False,random_seed=None):\n",
    "    \n",
    "    X = np.array(X)\n",
    "    Y = np.array(Y)\n",
    "    \n",
    "    indices = np.array(range(len(X)))\n",
    "    \n",
    "    test_size_len = round(test_size + X.shape[0])\n",
    "    \n",
    "    if random == True:\n",
    "        if random_seed != None:\n",
    "            random_generator = np.random.RandomState(seed=random_seed)\n",
    "            random_generator.shuffle(indices)\n",
    "            \n",
    "        else:\n",
    "            np.random.shuffle(indices)\n",
    "            \n",
    "        test_indices = indices[0:test_size_len]\n",
    "        train_indices = indices[test_size_len:]\n",
    "        \n",
    "        X_train = X[train_indices, : ]\n",
    "        X_test = X[test_indices, : ]\n",
    "        Y_train = Y[train_indices]\n",
    "        Y_test = Y[test_indices]\n",
    "        \n",
    "    else:\n",
    "        train_indices = indices[0:(len(X)-test_size_len)]\n",
    "        test_indices = indices[(len(X)-test_size_len):]\n",
    "        \n",
    "        X_train = X[train_indices, : ]\n",
    "        X_test = X[test_indices, : ]\n",
    "        Y_train = Y[train_indices]\n",
    "        Y_test = Y[test_indices]\n",
    "        \n",
    "    return X_train,X_test,Y_train,Y_test"
   ]
  },
  {
   "cell_type": "code",
   "execution_count": 26,
   "id": "461d5950",
   "metadata": {},
   "outputs": [],
   "source": [
    "X_train,X_test,Y_train,Y_test = train_test_split(X,Y,test_size=0.25,random=True,random_seed=100)"
   ]
  },
  {
   "cell_type": "code",
   "execution_count": 27,
   "id": "ed01e4dd",
   "metadata": {},
   "outputs": [],
   "source": [
    "tr_data = data.sample(frac = 0.75, random_state = 100)\n",
    "sample_data = data.drop(tr_data.index)"
   ]
  },
  {
   "cell_type": "code",
   "execution_count": 28,
   "id": "2bc81365",
   "metadata": {},
   "outputs": [],
   "source": [
    "def split(data):\n",
    "    X = []\n",
    "    Y = []\n",
    "    \n",
    "    data_xy = np.array(data)\n",
    "    \n",
    "    for i in range(len(data)):\n",
    "        X.append(data_xy[i][0:4])\n",
    "        Y.append(data_xy[i][4])\n",
    "    \n",
    "    X = np.array(X)\n",
    "    X = X.astype(np.float64)\n",
    "    Y = np.array(Y)\n",
    "\n",
    "    return X, Y"
   ]
  },
  {
   "cell_type": "code",
   "execution_count": 29,
   "id": "dea3eb0d",
   "metadata": {},
   "outputs": [],
   "source": [
    "tr = split(tr_data)\n",
    "sp = split(sample_data)\n",
    "X_train = tr[0]\n",
    "Y_train = tr[1]\n",
    "X_test = sp[0]\n",
    "Y_test = sp[1]"
   ]
  },
  {
   "cell_type": "code",
   "execution_count": 30,
   "id": "72d1128a",
   "metadata": {},
   "outputs": [],
   "source": [
    "def euclidean_dist(obs1, obs2):\n",
    "    dist = np.sqrt(np.sum((obs1 - obs2)**2))\n",
    "    return round(dist,2)"
   ]
  },
  {
   "cell_type": "code",
   "execution_count": 31,
   "id": "f8667673",
   "metadata": {},
   "outputs": [],
   "source": [
    "def manhattan_dist(obs1, obs2):\n",
    "    return np.sum(np.abs(obs1 - obs2))"
   ]
  },
  {
   "cell_type": "code",
   "execution_count": 32,
   "id": "b97b2538",
   "metadata": {},
   "outputs": [],
   "source": [
    "def search_neighbors2(X_train, test_sample, k = 5):\n",
    "    \n",
    "    dists_info = list()\n",
    "    \n",
    "    for index, train_sample in enumerate(X_train):\n",
    "        dist = manhattan_dist(train_sample, test_sample)\n",
    "        dists_info.append(dist, index, train_sample)\n",
    "        \n",
    "    dists_info.sort(key=lambda x : x[0])\n",
    "    \n",
    "    return dists_info[:k]"
   ]
  },
  {
   "cell_type": "code",
   "execution_count": 33,
   "id": "6a106776",
   "metadata": {},
   "outputs": [],
   "source": [
    "def search_neighbors(X_train, test_sample, k = 5):\n",
    "    \n",
    "    dists_info = list()\n",
    "    \n",
    "    for index, train_sample in enumerate(X_train):\n",
    "        dist = euclidean_dist(train_sample, test_sample)\n",
    "        \n",
    "        dists_info.append((dist, train_sample, index))\n",
    "        \n",
    "    dists_info.sort(key=lambda tupe:tupe[0])\n",
    "    neighbors = dists_info[1:k+1]\n",
    "    \n",
    "    return neighbors"
   ]
  },
  {
   "cell_type": "code",
   "execution_count": 34,
   "id": "f00f7ca4",
   "metadata": {},
   "outputs": [],
   "source": [
    "def knn_prediction(X_train, Y_train, test_sample, k = 15):\n",
    "    \n",
    "    neighbors = search_neighbors(X_train, test_sample, 5)\n",
    "    neigh_index = list()\n",
    "    \n",
    "    for neigh in neighbors:\n",
    "        neigh_index.append(neigh[2])\n",
    "        \n",
    "    neigh_Y = Y_train[neigh_index]\n",
    "    \n",
    "    classes, counts = np.unique(neigh_Y, return_counts=True)\n",
    "    \n",
    "    pred = classes[np.argmax(counts)]\n",
    "    \n",
    "    return pred, neigh_Y"
   ]
  },
  {
   "cell_type": "code",
   "execution_count": 35,
   "id": "e496d85b",
   "metadata": {},
   "outputs": [],
   "source": [
    "test_sample = X_train[100,:]"
   ]
  },
  {
   "cell_type": "code",
   "execution_count": 36,
   "id": "84b4db5d",
   "metadata": {},
   "outputs": [
    {
     "data": {
      "text/plain": [
       "('Iris-setosa',\n",
       " array(['Iris-setosa', 'Iris-setosa', 'Iris-setosa', 'Iris-setosa',\n",
       "        'Iris-setosa'], dtype='<U15'))"
      ]
     },
     "execution_count": 36,
     "metadata": {},
     "output_type": "execute_result"
    }
   ],
   "source": [
    "knn_prediction(X_train, Y_train, test_sample, 15)"
   ]
  },
  {
   "cell_type": "code",
   "execution_count": 37,
   "id": "c25c70ae",
   "metadata": {},
   "outputs": [],
   "source": [
    "total_pred = list()\n",
    "for index, test_sample in enumerate(X_test):\n",
    "    \n",
    "    pred, neigh_y = knn_prediction(X_train, Y_train, test_sample, k=5)\n",
    "    \n",
    "    total_pred.append(pred)"
   ]
  },
  {
   "cell_type": "code",
   "execution_count": 38,
   "id": "33d90521",
   "metadata": {},
   "outputs": [],
   "source": [
    "total_accuracy = sum(total_pred==Y_test)/len(Y_test)\n",
    "total_error_rate = 1 - total_accuracy"
   ]
  },
  {
   "cell_type": "code",
   "execution_count": 39,
   "id": "911e2fde",
   "metadata": {},
   "outputs": [
    {
     "name": "stdout",
     "output_type": "stream",
     "text": [
      "정확도 =  100.00\n",
      "오류율 =  0.00\n"
     ]
    }
   ],
   "source": [
    "print(\"정확도 = {: .2f}\".format((total_accuracy)*100))\n",
    "print(\"오류율 = {: .2f}\".format((total_error_rate)*100))"
   ]
  },
  {
   "cell_type": "code",
   "execution_count": null,
   "id": "ba69215a",
   "metadata": {},
   "outputs": [],
   "source": []
  }
 ],
 "metadata": {
  "kernelspec": {
   "display_name": "Python 3 (ipykernel)",
   "language": "python",
   "name": "python3"
  },
  "language_info": {
   "codemirror_mode": {
    "name": "ipython",
    "version": 3
   },
   "file_extension": ".py",
   "mimetype": "text/x-python",
   "name": "python",
   "nbconvert_exporter": "python",
   "pygments_lexer": "ipython3",
   "version": "3.9.12"
  }
 },
 "nbformat": 4,
 "nbformat_minor": 5
}
