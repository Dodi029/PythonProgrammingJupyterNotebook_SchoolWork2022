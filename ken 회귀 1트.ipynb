{
 "cells": [
  {
   "cell_type": "code",
   "execution_count": 33,
   "id": "3de376a6",
   "metadata": {},
   "outputs": [
    {
     "ename": "ValueError",
     "evalue": "could not convert string to float: 'I'",
     "output_type": "error",
     "traceback": [
      "\u001b[0;31m---------------------------------------------------------------------------\u001b[0m",
      "\u001b[0;31mValueError\u001b[0m                                Traceback (most recent call last)",
      "Input \u001b[0;32mIn [33]\u001b[0m, in \u001b[0;36m<cell line: 86>\u001b[0;34m()\u001b[0m\n\u001b[1;32m     85\u001b[0m total_pred \u001b[38;5;241m=\u001b[39m \u001b[38;5;28mlist\u001b[39m()\n\u001b[1;32m     86\u001b[0m \u001b[38;5;28;01mfor\u001b[39;00m index, test_sample \u001b[38;5;129;01min\u001b[39;00m \u001b[38;5;28menumerate\u001b[39m(X_test):\n\u001b[0;32m---> 87\u001b[0m     pred, neigh_y \u001b[38;5;241m=\u001b[39m \u001b[43mknn\u001b[49m\u001b[38;5;241;43m.\u001b[39;49m\u001b[43mpredict\u001b[49m\u001b[43m(\u001b[49m\u001b[43mX_train\u001b[49m\u001b[43m,\u001b[49m\u001b[43m \u001b[49m\u001b[43mY_train\u001b[49m\u001b[43m,\u001b[49m\u001b[43m \u001b[49m\u001b[43mtest_sample\u001b[49m\u001b[43m)\u001b[49m\n\u001b[1;32m     88\u001b[0m     total_pred\u001b[38;5;241m.\u001b[39mappend(pred)\n",
      "Input \u001b[0;32mIn [33]\u001b[0m, in \u001b[0;36mknn.predict\u001b[0;34m(self, X_train, Y_train, test_sample)\u001b[0m\n\u001b[1;32m     71\u001b[0m     neigh_index\u001b[38;5;241m.\u001b[39mappend(neigh[\u001b[38;5;241m2\u001b[39m])\n\u001b[1;32m     73\u001b[0m neigh_y \u001b[38;5;241m=\u001b[39m Y_train[neigh_index]\n\u001b[0;32m---> 74\u001b[0m neigh_y\u001b[38;5;241m=\u001b[39m\u001b[38;5;28;43mlist\u001b[39;49m\u001b[43m(\u001b[49m\u001b[38;5;28;43mmap\u001b[39;49m\u001b[43m(\u001b[49m\u001b[38;5;28;43mfloat\u001b[39;49m\u001b[43m,\u001b[49m\u001b[43m \u001b[49m\u001b[43mneigh_y\u001b[49m\u001b[43m[\u001b[49m\u001b[38;5;241;43m0\u001b[39;49m\u001b[43m]\u001b[49m\u001b[43m)\u001b[49m\u001b[43m)\u001b[49m\n\u001b[1;32m     75\u001b[0m new\u001b[38;5;241m=\u001b[39m\u001b[38;5;241m0\u001b[39m\n\u001b[1;32m     76\u001b[0m \u001b[38;5;28;01mfor\u001b[39;00m i \u001b[38;5;129;01min\u001b[39;00m \u001b[38;5;28mrange\u001b[39m(\u001b[38;5;241m0\u001b[39m,\u001b[38;5;28mself\u001b[39m\u001b[38;5;241m.\u001b[39mk):\n",
      "\u001b[0;31mValueError\u001b[0m: could not convert string to float: 'I'"
     ]
    }
   ],
   "source": [
    "import os\n",
    "import numpy as np\n",
    "import pandas as pd\n",
    "\n",
    "path = '/Users/doyoung/학교/Python_Programming_JupyterNotebook/데이터/iris.csv'\n",
    "data = pd.read_csv(path)\n",
    "Y = data['class']\n",
    "X = data.drop(['class'], axis=1)\n",
    "def train_test_split(X, Y, test_size=0.25,random=False, random_seed=None):\n",
    "    X = np.array(X)\n",
    "    Y = np.array(Y)\n",
    "    \n",
    "    indices = np.array(range(len(X)))\n",
    "    test_size_len = round(test_size * X.shape[0])\n",
    "    \n",
    "    if random==True:\n",
    "        if random_seed != None:\n",
    "            random_generator = np.random.RandomState(seed=random_seed)\n",
    "            random_generator.shuffle(indices)\n",
    "            \n",
    "        else:\n",
    "            np.random.shuffle(indices)\n",
    "            \n",
    "        test_indices = indices[0:test_size_len]\n",
    "        train_indices = indices[test_size_len:]\n",
    "        \n",
    "        X_train = X[train_indices, :]\n",
    "        X_test = X[test_indices, :]\n",
    "        Y_train = Y[train_indices]\n",
    "        Y_test = Y[test_indices]\n",
    "        \n",
    "    else:\n",
    "        train_indices = indices[0:(len(X)-test_size_len)]\n",
    "        test_indices = indices[(len(X)-test_size_len)]\n",
    "        \n",
    "        X_train = X[train_indices, :]\n",
    "        X_test = X[test_indices, :]\n",
    "        Y_train = Y[train_indices]\n",
    "        Y_test = Y[test_indices]\n",
    "        \n",
    "    return X_train, X_test, Y_train, Y_test\n",
    "\n",
    "X_train, X_test, Y_train, Y_test = train_test_split(X,Y,random=True,test_size=0.3,random_seed=50)\n",
    "\n",
    "class knn:\n",
    "    \n",
    "    def __init__(self, k = 5):\n",
    "        self.k = k\n",
    "        self.neighbors = None\n",
    "        \n",
    "        \n",
    "    def euclidean_dist(self, obs1, obs2):\n",
    "        dist = np.sqrt(np.sum(obs1-obs2)**2)\n",
    "        return np.around(dist,3)\n",
    "    \n",
    "    def search_neighbors(self, X_train, test_sample):\n",
    "        dists_info=list()\n",
    "        \n",
    "        for index, train_sample in enumerate(X_train):\n",
    "            dist = self.euclidean_dist(train_sample, test_sample)\n",
    "            dists_info.append((train_sample,dist,index))\n",
    "        dists_info.sort(key=lambda tupe:tupe[1])\n",
    "        self.neighbors = dists_info[:self.k]\n",
    "        return self.neighbors\n",
    "    \n",
    "    def predict(self, X_train,Y_train, test_sample):\n",
    "        self.neighbors = self.search_neighbors(X_train, test_sample)\n",
    "        \n",
    "        neigh_index = list()\n",
    "        for neigh in self.neighbors:\n",
    "            neigh_index.append(neigh[2])\n",
    "            \n",
    "        neigh_y = Y_train[neigh_index]\n",
    "        neigh_y=list(map(float, neigh_y[0]))\n",
    "        new=0\n",
    "        for i in range(0,self.k):\n",
    "            new = new + neigh_y[0][i]\n",
    "        new=new/self.k\n",
    "        \n",
    "        classes, counts = np.unique(neigh_y, return_counts = True)\n",
    "        pred=classes[np.argmax(counts)]\n",
    "        return pred,new\n",
    "\n",
    "knn = knn(k=5)\n",
    "total_pred = list()\n",
    "for index, test_sample in enumerate(X_test):\n",
    "    pred, neigh_y = knn.predict(X_train, Y_train, test_sample)\n",
    "    total_pred.append(pred)"
   ]
  },
  {
   "cell_type": "code",
   "execution_count": 34,
   "id": "b307532c",
   "metadata": {},
   "outputs": [],
   "source": [
    "class METRIX:\n",
    "    def __init__(self):\n",
    "        self.mse_result=0\n",
    "        self.mape_result=0\n",
    "        \n",
    "    def Mse(self,true_y,pred_y):\n",
    "        residual = true_y - pred_y\n",
    "        square_residual = residual*residual\n",
    "        self.mse_result =  np.mean(square_residual)\n",
    "        return self.mse_result\n",
    "        \n",
    "    def Mape(self,true_y,pred_y):\n",
    "        residual = true_y - pred_y\n",
    "        temp = np.abs(residual)/np.abs(true_y)*100 \n",
    "        self.mape_result = np.mean(temp)\n",
    "        return self.mape_result"
   ]
  },
  {
   "cell_type": "code",
   "execution_count": null,
   "id": "6b4c0d05",
   "metadata": {},
   "outputs": [],
   "source": []
  },
  {
   "cell_type": "code",
   "execution_count": 31,
   "id": "451692df",
   "metadata": {},
   "outputs": [
    {
     "name": "stderr",
     "output_type": "stream",
     "text": [
      "/var/folders/3d/kn7vpxbj1kq30df_5r2lj8q00000gn/T/ipykernel_65249/3896419035.py:1: DeprecationWarning: elementwise comparison failed; this will raise an error in the future.\n",
      "  total_accuracy = sum(total_pred==Y_test)/len(Y_test)\n"
     ]
    },
    {
     "ename": "TypeError",
     "evalue": "'bool' object is not iterable",
     "output_type": "error",
     "traceback": [
      "\u001b[0;31m---------------------------------------------------------------------------\u001b[0m",
      "\u001b[0;31mTypeError\u001b[0m                                 Traceback (most recent call last)",
      "Input \u001b[0;32mIn [31]\u001b[0m, in \u001b[0;36m<cell line: 1>\u001b[0;34m()\u001b[0m\n\u001b[0;32m----> 1\u001b[0m total_accuracy \u001b[38;5;241m=\u001b[39m \u001b[38;5;28;43msum\u001b[39;49m\u001b[43m(\u001b[49m\u001b[43mtotal_pred\u001b[49m\u001b[38;5;241;43m==\u001b[39;49m\u001b[43mY_test\u001b[49m\u001b[43m)\u001b[49m\u001b[38;5;241m/\u001b[39m\u001b[38;5;28mlen\u001b[39m(Y_test)\n\u001b[1;32m      2\u001b[0m total_error_rate \u001b[38;5;241m=\u001b[39m \u001b[38;5;241m1\u001b[39m \u001b[38;5;241m-\u001b[39m total_accuracy\n\u001b[1;32m      4\u001b[0m \u001b[38;5;28mprint\u001b[39m(\u001b[38;5;124m\"\u001b[39m\u001b[38;5;124m정확도 = \u001b[39m\u001b[38;5;132;01m{:.2f}\u001b[39;00m\u001b[38;5;124m\"\u001b[39m\u001b[38;5;241m.\u001b[39mformat((total_accuracy)\u001b[38;5;241m*\u001b[39m\u001b[38;5;241m100\u001b[39m))\n",
      "\u001b[0;31mTypeError\u001b[0m: 'bool' object is not iterable"
     ]
    }
   ],
   "source": [
    "total_accuracy = sum(total_pred==Y_test)/len(Y_test)\n",
    "total_error_rate = 1 - total_accuracy\n",
    "\n",
    "print(\"정확도 = {:.2f}\".format((total_accuracy)*100))\n",
    "print(\"오류율 = {:.2f}\".format((total_error_rate)*100))"
   ]
  },
  {
   "cell_type": "code",
   "execution_count": null,
   "id": "38d6cb7c",
   "metadata": {},
   "outputs": [],
   "source": []
  }
 ],
 "metadata": {
  "kernelspec": {
   "display_name": "Python 3 (ipykernel)",
   "language": "python",
   "name": "python3"
  },
  "language_info": {
   "codemirror_mode": {
    "name": "ipython",
    "version": 3
   },
   "file_extension": ".py",
   "mimetype": "text/x-python",
   "name": "python",
   "nbconvert_exporter": "python",
   "pygments_lexer": "ipython3",
   "version": "3.9.12"
  }
 },
 "nbformat": 4,
 "nbformat_minor": 5
}
