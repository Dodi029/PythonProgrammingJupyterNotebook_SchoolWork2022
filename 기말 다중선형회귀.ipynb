{
 "cells": [
  {
   "cell_type": "code",
   "execution_count": 142,
   "id": "ac888582",
   "metadata": {},
   "outputs": [],
   "source": [
    "import os\n",
    "import numpy as np\n",
    "import pandas as pd\n",
    "\n",
    "data1 = pd.read_csv('/Users/doyoung/학교/Python_Programming_JupyterNotebook/데이터/wine_quality_1.csv', sep=';')\n",
    "data2 = pd.read_csv('/Users/doyoung/학교/Python_Programming_JupyterNotebook/데이터/wine_quality_2.csv', sep=';')"
   ]
  },
  {
   "cell_type": "code",
   "execution_count": 143,
   "id": "11a27b0e",
   "metadata": {},
   "outputs": [],
   "source": [
    "data = pd.merge(data1,data2,on='key',how='inner')"
   ]
  },
  {
   "cell_type": "code",
   "execution_count": 144,
   "id": "4657122e",
   "metadata": {},
   "outputs": [],
   "source": [
    "non_dupli_data=data.drop_duplicates(keep='first') #중복된 데이터 제거"
   ]
  },
  {
   "cell_type": "code",
   "execution_count": 145,
   "id": "9366a31c",
   "metadata": {},
   "outputs": [],
   "source": [
    "non_dupli_data2=non_dupli_data.drop(['chlorides'],axis=1)"
   ]
  },
  {
   "cell_type": "code",
   "execution_count": 146,
   "id": "b47123e0",
   "metadata": {},
   "outputs": [],
   "source": [
    "non_dupli_data2.fillna(method='ffill',inplace=True) #모든 변수에 미싱벨류 없음"
   ]
  },
  {
   "cell_type": "code",
   "execution_count": 147,
   "id": "e0b3a209",
   "metadata": {},
   "outputs": [],
   "source": [
    "non_dupli_data2.drop(['key'],axis=1,inplace=True)"
   ]
  },
  {
   "cell_type": "code",
   "execution_count": 148,
   "id": "f3797ad5",
   "metadata": {},
   "outputs": [],
   "source": [
    "non_dupli_data3=pd.get_dummies(non_dupli_data2)"
   ]
  },
  {
   "cell_type": "code",
   "execution_count": 149,
   "id": "8fe37a9c",
   "metadata": {},
   "outputs": [],
   "source": [
    "Y=non_dupli_data3['quality']\n",
    "X=non_dupli_data3.drop(['quality'],axis=1)\n",
    "Y=Y.astype(float)"
   ]
  },
  {
   "cell_type": "code",
   "execution_count": 150,
   "id": "299bee5e",
   "metadata": {},
   "outputs": [],
   "source": [
    "def split(X, Y, test_size=0.25,random=False, random_seed=None):\n",
    "    X = np.array(X)\n",
    "    Y = np.array(Y)\n",
    "    \n",
    "    indices = np.array(range(len(X)))\n",
    "    test_size_len = round(test_size * len(X))\n",
    "    \n",
    "    if random==True:\n",
    "        if random_seed != None:\n",
    "            random_generator = np.random.RandomState(seed=random_seed)\n",
    "            random_generator.shuffle(indices)\n",
    "            \n",
    "        else:\n",
    "            np.random.shuffle(indices)\n",
    "            \n",
    "        test_indices = indices[0:test_size_len]\n",
    "        train_indices = indices[test_size_len:]\n",
    "        \n",
    "        X_train = X[train_indices, :]\n",
    "        X_test = X[test_indices, :]\n",
    "        Y_train = Y[train_indices]\n",
    "        Y_test = Y[test_indices]\n",
    "        \n",
    "    else:\n",
    "        train_indices = indices[0:(len(X)-test_size_len)]\n",
    "        test_indices = indices[(len(X)-test_size_len):]\n",
    "        \n",
    "        X_train = X[train_indices, :]\n",
    "        X_test = X[test_indices, :]\n",
    "        Y_train = Y[train_indices]\n",
    "        Y_test = Y[test_indices]\n",
    "        \n",
    "    return X_train, X_test, Y_train, Y_test"
   ]
  },
  {
   "cell_type": "code",
   "execution_count": 151,
   "id": "40f516ea",
   "metadata": {},
   "outputs": [],
   "source": [
    "class MLR:\n",
    "    def init(self,intercept=True):\n",
    "        self.coef_=None\n",
    "        self.intercept=intercept\n",
    "        \n",
    "    def fit(self,input_X, output_Y):\n",
    "        if self.intercept==True:\n",
    "            new_input_X=self.intercept_add(input_X)\n",
    "            self.coef_=np.linalg.inv(new_input_X.transpose()@new_input_X)@new_input_X.transpose()@output_Y\n",
    "        else:\n",
    "            new_input_X=input_X\n",
    "            self.coef_=np.linalg.inv(new_input_X.transposespose()@new_input_X)@new_input_X.transpose()@output_Y\n",
    "            \n",
    "    def intercept_add(self,input_X):\n",
    "        ones=np.ones(input_X.shape[0]).reshape(-1,1)\n",
    "        result=np.concatenate([input_X,ones],axis=1)\n",
    "        \n",
    "        return result\n",
    "    \n",
    "    def predict(self,X_test):\n",
    "        if self.intercept==True:\n",
    "            new_X_test=self.intercept_add(X_test)\n",
    "            pred_test=new_X_test@self.coef_.reshape(-1,1)\n",
    "        else:\n",
    "            new_X_test=X_test\n",
    "            pred_test=new_X_test@self.coef_.reshape(-1,1)\n",
    "            \n",
    "        return pred_test"
   ]
  },
  {
   "cell_type": "code",
   "execution_count": 152,
   "id": "bffa4288",
   "metadata": {},
   "outputs": [],
   "source": [
    "class Mertic:\n",
    "    def init(self):\n",
    "        self.mse_result=0\n",
    "        self.mape_result=0\n",
    "        \n",
    "    def MSE(self, true_y, pred_y):\n",
    "        residual=true_y - pred_y\n",
    "        self.mse_result=np.mean(residual**2)\n",
    "        \n",
    "        return self.mse_result\n",
    "    \n",
    "    def MAPE(self,true_y,pred_y):\n",
    "        residual=true_y-pred_y\n",
    "        result_mape=(np.abs((residual)/true_y))*100\n",
    "        self.mape_result=np.mean(result_mape)\n",
    "        \n",
    "        return self.mape_result"
   ]
  },
  {
   "cell_type": "code",
   "execution_count": 157,
   "id": "dd5a398d",
   "metadata": {},
   "outputs": [],
   "source": [
    "X_train, X_test, Y_train, Y_test=split(X,Y,random=True,test_size=0.3,random_seed=3)"
   ]
  },
  {
   "cell_type": "code",
   "execution_count": 158,
   "id": "f5f44fc9",
   "metadata": {},
   "outputs": [],
   "source": [
    "LR=MLR()\n",
    "LR.init(intercept=True)"
   ]
  },
  {
   "cell_type": "code",
   "execution_count": 159,
   "id": "9004f585",
   "metadata": {},
   "outputs": [],
   "source": [
    "LR.fit(X_train,Y_train)\n",
    "pred=LR.predict(X_test)\n",
    "evaluator=Mertic()\n",
    "\n",
    "mse=evaluator.MSE(Y_test,pred)\n",
    "mape=evaluator.MAPE(Y_test,pred)"
   ]
  },
  {
   "cell_type": "code",
   "execution_count": 160,
   "id": "c25f15ec",
   "metadata": {},
   "outputs": [
    {
     "name": "stdout",
     "output_type": "stream",
     "text": [
      "MSE 결과 : 144.4, MAPE 결과 : 173.1\n"
     ]
    }
   ],
   "source": [
    "print('MSE 결과 : {:.1f}, MAPE 결과 : {:.1f}'.format(mse,mape))"
   ]
  },
  {
   "cell_type": "code",
   "execution_count": null,
   "id": "28115b2b",
   "metadata": {},
   "outputs": [],
   "source": []
  }
 ],
 "metadata": {
  "kernelspec": {
   "display_name": "Python 3 (ipykernel)",
   "language": "python",
   "name": "python3"
  },
  "language_info": {
   "codemirror_mode": {
    "name": "ipython",
    "version": 3
   },
   "file_extension": ".py",
   "mimetype": "text/x-python",
   "name": "python",
   "nbconvert_exporter": "python",
   "pygments_lexer": "ipython3",
   "version": "3.9.12"
  }
 },
 "nbformat": 4,
 "nbformat_minor": 5
}
