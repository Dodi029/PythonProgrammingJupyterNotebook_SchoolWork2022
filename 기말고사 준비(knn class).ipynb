{
 "cells": [
  {
   "cell_type": "code",
   "execution_count": 1,
   "id": "83fd689f",
   "metadata": {},
   "outputs": [],
   "source": [
    "import os\n",
    "import numpy as np\n",
    "import pandas as pd\n",
    "\n",
    "path = '/Users/doyoung/학교/Python_Programming_JupyterNotebook/데이터/iris.csv'\n",
    "data = pd.read_csv(path)"
   ]
  },
  {
   "cell_type": "code",
   "execution_count": 2,
   "id": "8c9e7ecd",
   "metadata": {},
   "outputs": [],
   "source": [
    "Y = data['class']\n",
    "X = data.drop(['class'], axis=1)"
   ]
  },
  {
   "cell_type": "code",
   "execution_count": 3,
   "id": "2b637658",
   "metadata": {},
   "outputs": [],
   "source": [
    "def train_test_split(X, Y, test_size=0.25,random=False, random_seed=None):\n",
    "    X = np.array(X)\n",
    "    Y = np.array(Y)\n",
    "    \n",
    "    indices = np.array(range(len(X)))\n",
    "    test_size_len = round(test_size * X.shape[0])\n",
    "    \n",
    "    if random==True:\n",
    "        if random_seed != None:\n",
    "            random_generator = np.random.RandomState(seed=random_seed)\n",
    "            random_generator.shuffle(indices)\n",
    "            \n",
    "        else:\n",
    "            np.random.shuffle(indices)\n",
    "            \n",
    "        test_indices = indices[0:test_size_len]\n",
    "        train_indices = indices[test_size_len:]\n",
    "        \n",
    "        X_train = X[train_indices, :]\n",
    "        X_test = X[test_indices, :]\n",
    "        Y_train = Y[train_indices]\n",
    "        Y_test = Y[test_indices]\n",
    "        \n",
    "    else:\n",
    "        train_indices = indices[0:(len(X)-test_size_len)]\n",
    "        test_indices = indices[(len(X)-test_size_len)]\n",
    "        \n",
    "        X_train = X[train_indices, :]\n",
    "        X_test = X[test_indices, :]\n",
    "        Y_train = Y[train_indices]\n",
    "        Y_test = Y[test_indices]\n",
    "        \n",
    "    return X_train, X_test, Y_train, Y_test\n",
    "        "
   ]
  },
  {
   "cell_type": "code",
   "execution_count": 4,
   "id": "1a5f6feb",
   "metadata": {},
   "outputs": [],
   "source": [
    "X_train, X_test, Y_train, Y_test = train_test_split(X,Y,random=True,test_size=0.3,random_seed=50)"
   ]
  },
  {
   "cell_type": "code",
   "execution_count": 5,
   "id": "e47af8b8",
   "metadata": {},
   "outputs": [],
   "source": [
    "class knn:\n",
    "    \n",
    "    def __init__(self, k = 5):\n",
    "        self.k = k\n",
    "        self.neighbors = None\n",
    "        \n",
    "        \n",
    "    def euclidean_dist(self, obs1, obs2):\n",
    "        dist = np.sqrt(np.sum(obs1-obs2)**2)\n",
    "        return np.around(dist,3)\n",
    "    \n",
    "    def search_neighbors(self, X_train, test_sample):\n",
    "        dists_info=list()\n",
    "        \n",
    "        for index, train_sample in enumerate(X_train):\n",
    "            dist = self.euclidean_dist(train_sample, test_sample)\n",
    "            dists_info.append((train_sample,dist,index))\n",
    "        dists_info.sort(key=lambda tupe:tupe[1])\n",
    "        self.neighbors = dists_info[:self.k]\n",
    "        return self.neighbors\n",
    "    \n",
    "    def predict(self, X_train,Y_train, test_sample):\n",
    "        self.neighbors = self.search_neighbors(X_train, test_sample)\n",
    "        \n",
    "        neigh_index = list()\n",
    "        for neigh in self.neighbors:\n",
    "            neigh_index.append(neigh[2])\n",
    "            \n",
    "        neigh_y = Y_train[neigh_index]\n",
    "        \n",
    "        classes, counts = np.unique(neigh_y, return_counts = True)\n",
    "        pred=classes[np.argmax(counts)]\n",
    "        return pred,neigh_y"
   ]
  },
  {
   "cell_type": "code",
   "execution_count": 6,
   "id": "6b592f4b",
   "metadata": {},
   "outputs": [],
   "source": [
    "knn = knn(k=5)"
   ]
  },
  {
   "cell_type": "code",
   "execution_count": 7,
   "id": "0d75fe8f",
   "metadata": {},
   "outputs": [],
   "source": [
    "total_pred = list()\n",
    "for index, test_sample in enumerate(X_test):\n",
    "    pred, neigh_y = knn.predict(X_train, Y_train, test_sample)\n",
    "    total_pred.append(pred)"
   ]
  },
  {
   "cell_type": "code",
   "execution_count": 8,
   "id": "6e3d9181",
   "metadata": {},
   "outputs": [
    {
     "data": {
      "text/plain": [
       "[(array([6.9, 3.2, 5.7, 2.3]), 0.0, 57),\n",
       " (array([7.3, 2.9, 6.3, 1.8]), 0.2, 25),\n",
       " (array([6.7, 3.3, 5.7, 2.1]), 0.3, 58),\n",
       " (array([6.3, 3.4, 5.6, 2.4]), 0.4, 52),\n",
       " (array([7.2, 3. , 5.8, 1.6]), 0.5, 43)]"
      ]
     },
     "execution_count": 8,
     "metadata": {},
     "output_type": "execute_result"
    }
   ],
   "source": [
    "knn.neighbors"
   ]
  },
  {
   "cell_type": "code",
   "execution_count": 9,
   "id": "6b1dd63f",
   "metadata": {},
   "outputs": [
    {
     "name": "stdout",
     "output_type": "stream",
     "text": [
      "정확도 = 84.44\n",
      "오류율 = 15.56\n"
     ]
    }
   ],
   "source": [
    "total_accuracy = sum(total_pred==Y_test)/len(Y_test)\n",
    "total_error_rate = 1 - total_accuracy\n",
    "\n",
    "print(\"정확도 = {:.2f}\".format((total_accuracy)*100))\n",
    "print(\"오류율 = {:.2f}\".format((total_error_rate)*100))"
   ]
  },
  {
   "cell_type": "code",
   "execution_count": null,
   "id": "b7c8da44",
   "metadata": {},
   "outputs": [],
   "source": []
  }
 ],
 "metadata": {
  "kernelspec": {
   "display_name": "Python 3 (ipykernel)",
   "language": "python",
   "name": "python3"
  },
  "language_info": {
   "codemirror_mode": {
    "name": "ipython",
    "version": 3
   },
   "file_extension": ".py",
   "mimetype": "text/x-python",
   "name": "python",
   "nbconvert_exporter": "python",
   "pygments_lexer": "ipython3",
   "version": "3.9.12"
  }
 },
 "nbformat": 4,
 "nbformat_minor": 5
}
