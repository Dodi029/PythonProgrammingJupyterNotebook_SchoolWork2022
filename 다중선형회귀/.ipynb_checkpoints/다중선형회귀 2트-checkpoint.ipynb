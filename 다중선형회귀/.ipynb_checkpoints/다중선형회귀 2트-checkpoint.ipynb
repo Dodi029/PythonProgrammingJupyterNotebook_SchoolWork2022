{
 "cells": [
  {
   "cell_type": "code",
   "execution_count": 84,
   "id": "f7f2782f",
   "metadata": {},
   "outputs": [],
   "source": [
    "import os\n",
    "import math\n",
    "import numpy as np\n",
    "os.getcwd()\n",
    "\n",
    "f = open('/Users/doyoung/Downloads/ToyotaCorolla.txt', 'r', encoding='utf-8')\n",
    "data = f.readlines()\n",
    "f.close()"
   ]
  },
  {
   "cell_type": "code",
   "execution_count": 85,
   "id": "0317fdc1",
   "metadata": {},
   "outputs": [],
   "source": [
    "xy = []\n",
    "\n",
    "for i in range (len(data)):\n",
    "    data[i]=data[i].replace(',', '.')\n",
    "    xy.append(data[i].split('\\t'))\n",
    "    \n",
    "for i in range(1, len(xy)):\n",
    "    xy[i][1]=xy[i][1].replace('\\'','')"
   ]
  },
  {
   "cell_type": "code",
   "execution_count": 86,
   "id": "72801cd3",
   "metadata": {},
   "outputs": [],
   "source": [
    "for i in range(1, len(xy)):\n",
    "    xy[0][1] = xy[0][1].rstrip()\n",
    "    xy[0][2] = xy[0][2].rstrip()\n",
    "    xy[0][3] = xy[0][3].rstrip()\n",
    "    xy[0][4] = xy[0][4].rstrip()\n",
    "    xy[0][5] = xy[0][5].rstrip()\n",
    "    xy[0][6] = xy[0][6].rstrip()\n",
    "    \n",
    "    xy[i][1] = int(xy[i][1])\n",
    "    xy[i][2] = int(xy[i][2])\n",
    "    xy[i][3] = int(xy[i][3])\n",
    "    xy[i][4] = int(xy[i][4])\n",
    "    xy[i][5] = int(xy[i][5])\n",
    "    xy[i][6] = int(xy[i][6])"
   ]
  },
  {
   "cell_type": "code",
   "execution_count": 87,
   "id": "d4d346e4",
   "metadata": {},
   "outputs": [],
   "source": [
    "data_array = []\n",
    "data1 = []\n",
    "\n",
    "for i in range(1,len(xy)):\n",
    "    data1.append(1)\n",
    "    \n",
    "    data_array.append([xy[i][1], xy[i][2], xy[i][3], xy[i][4], xy[i][5], xy[i][6]])"
   ]
  },
  {
   "cell_type": "code",
   "execution_count": 88,
   "id": "1e49fd44",
   "metadata": {},
   "outputs": [],
   "source": [
    "class Multi_Linear:\n",
    "    def _init_(self, w = 0, w0 = 0, intercept = 1):\n",
    "        self.w = w\n",
    "        self.w0 = w0\n",
    "        self.intercept = intercept   #intercept가 0일경우 y절편 포함 x\n",
    "        \n",
    "    def random(self, data_array):\n",
    "        rand = np.random.RandomState(100)\n",
    "        rand.shuffle(data_array)\n",
    "        \n",
    "        return data_array\n",
    "    \n",
    "    def separate(self, data_array):\n",
    "        x_array = []\n",
    "        y_array = []\n",
    "        \n",
    "        for i in range(0, len(data_array)):\n",
    "            y_array.append([data_array[i][0]])\n",
    "            x_array.append([data_array[i][1], data_array[i][2],data_array[i][3],data_array[i][4],data_array[i][5],data1[i]])\n",
    "            \n",
    "        return x_array, y_array\n",
    "    \n",
    "    def divide(self, data):\n",
    "        tr = math.floor(len(data)*75/100)\n",
    "        data_tr = data[0:tr]\n",
    "        data_ts = data[tr:]\n",
    "        \n",
    "        return data_tr, data_ts\n",
    "    \n",
    "    def learn(self, data_x, data_y):\n",
    "        data_x = np.array(data_x)\n",
    "        data_y = np.array(data_y)\n",
    "        \n",
    "        w = np.linalg.inv(data_x.T @ data_x) @ data_x.T @ data_y\n",
    "        self.w0 = data_y\n",
    "        \n",
    "        return w, self.w0\n",
    "    \n",
    "    def predict(self, data_x_ts, w):\n",
    "        if self.intercept == 0:\n",
    "            self.w0 = 0\n",
    "            \n",
    "        y_pd = data_x_ts @ w\n",
    "        y_pd = y_pd.tolist()\n",
    "        for i in range(0, len(data_x_ts)):\n",
    "            y_pd.append(y_pd[i] + self.w0[i])\n",
    "        \n",
    "        y_pd = np.array(y_pd)\n",
    "        return y_pd\n",
    "    \n",
    "class Metric:\n",
    "    def MSE(self, data_y_ts, y_pd):\n",
    "        result = 0\n",
    "        \n",
    "        for i in range(len(data_y_ts)):\n",
    "            result += (data_y_ts[i] - y_pd[i]) ** 2\n",
    "        result = result / len(data_y_ts)\n",
    "        result = result.tolist()\n",
    "        return result[0]\n",
    "    \n",
    "    def MAPE(self, data_y_ts, y_pd):\n",
    "        result = 0\n",
    "        \n",
    "        for i in range(len(data_y_ts)):\n",
    "            result += abs(data_y_ts[i] - y_pd[i]) / abs(y_pd[i]) * 100\n",
    "        result = result / len(data_y_ts)\n",
    "        \n",
    "        result = result.tolist()\n",
    "        return result[0]"
   ]
  },
  {
   "cell_type": "code",
   "execution_count": 89,
   "id": "1b288244",
   "metadata": {},
   "outputs": [],
   "source": [
    "ML = Multi_Linear()\n",
    "ML._init_()\n",
    "Mrd = ML.random(data_array)\n",
    "Sp = ML.separate(Mrd)\n",
    "x_ary = ML.divide(Sp[0])\n",
    "y_ary = ML.divide(Sp[1])\n",
    "w = ML.learn(x_ary[0],y_ary[0])\n",
    "y_pd = ML.predict(x_ary[1], w[0])"
   ]
  },
  {
   "cell_type": "code",
   "execution_count": 90,
   "id": "d88a485b",
   "metadata": {},
   "outputs": [
    {
     "data": {
      "text/plain": [
       "2464199.253081351"
      ]
     },
     "execution_count": 90,
     "metadata": {},
     "output_type": "execute_result"
    }
   ],
   "source": [
    "M = Metric()\n",
    "MSE = M.MSE(y_ary[1], y_pd)\n",
    "MSE"
   ]
  },
  {
   "cell_type": "code",
   "execution_count": 83,
   "id": "1204c8c4",
   "metadata": {},
   "outputs": [
    {
     "data": {
      "text/plain": [
       "11.123817070069"
      ]
     },
     "execution_count": 83,
     "metadata": {},
     "output_type": "execute_result"
    }
   ],
   "source": [
    "MAPE = M.MAPE(y_ary[1], y_pd)\n",
    "MAPE"
   ]
  },
  {
   "cell_type": "code",
   "execution_count": null,
   "id": "5a688b90",
   "metadata": {},
   "outputs": [],
   "source": []
  }
 ],
 "metadata": {
  "kernelspec": {
   "display_name": "Python 3 (ipykernel)",
   "language": "python",
   "name": "python3"
  },
  "language_info": {
   "codemirror_mode": {
    "name": "ipython",
    "version": 3
   },
   "file_extension": ".py",
   "mimetype": "text/x-python",
   "name": "python",
   "nbconvert_exporter": "python",
   "pygments_lexer": "ipython3",
   "version": "3.9.12"
  }
 },
 "nbformat": 4,
 "nbformat_minor": 5
}
