{
 "cells": [
  {
   "cell_type": "code",
   "execution_count": 1,
   "id": "08e912cf",
   "metadata": {},
   "outputs": [],
   "source": [
    "import numpy as np\n",
    "import math\n",
    "import os\n",
    "\n",
    "#f = open('./ToyotaCorolla.txt', 'r', encoding = 'utf-8')\n",
    "f = open('/Users/doyoung/Downloads/ToyotaCorolla.txt', 'r', encoding='utf-8')\n",
    "data = f.readlines()\n",
    "f.close()\n",
    "\n",
    "data_list = []\n",
    "\n",
    "for i in range(1, len(data)):\n",
    "    data_list.append(data[i].split('\\t'))\n",
    "\n",
    "price_data_list = []\n",
    "age_data_list = []\n",
    "km_data_list = []\n",
    "cc_data_list = []\n",
    "door_data_list = []\n",
    "weight_data_list = []\n",
    "x_record = []\n",
    "\n",
    "for n in data_list:\n",
    "    price_data_list.append(int(n[1]))\n",
    "    age_data_list.append(int(n[2]))\n",
    "    km_data_list.append(int(n[3]))\n",
    "    cc_data_list.append(int(n[4]))\n",
    "    door_data_list.append(int(n[5]))\n",
    "    weight_data_list.append(int(n[6]))\n",
    "    x_record.append([int(n[2]), int(n[3]), int(n[4]), int(n[5]), int(n[6]), 1])\n",
    "    \n",
    "x_array_data = np.array(x_record)\n",
    "y_array_data = np.array(price_data_list)"
   ]
  },
  {
   "cell_type": "code",
   "execution_count": 2,
   "id": "08318e43",
   "metadata": {},
   "outputs": [],
   "source": [
    "def SplitData(x_array_data, y_array_data, train_rate = 0.25, random_seed = None):\n",
    "    index = np.array(range(len(x_array_data)))\n",
    "    test_size = round(len(x_array_data)*train_rate)\n",
    "\n",
    "    if(random_seed != None):\n",
    "        random_generator = np.random.RandomState(seed=random_seed)\n",
    "        random_generator.shuffle(index)\n",
    "\n",
    "    else:\n",
    "        np.random.shuffle(index)\n",
    "\n",
    "    test_index = index[0:test_size]\n",
    "    train_index = index[test_size:]\n",
    "        \n",
    "    X_train = x_array_data[train_index,:]\n",
    "    X_test = x_array_data[test_index,:]\n",
    "    Y_train = y_array_data[train_index]\n",
    "    Y_test = y_array_data[test_index]\n",
    "        \n",
    "    return X_train, X_test, Y_train, Y_test\n",
    "\n",
    "def MeanSquareError(training_model, x_test_array, y_test_array):\n",
    "    error_array = y_test_array - (x_test_array @ np.transpose(training_model))\n",
    "    mse = 0\n",
    "    for e in error_array:\n",
    "        mse += ((e**2) / len(error_array))\n",
    "    return mse"
   ]
  },
  {
   "cell_type": "code",
   "execution_count": 3,
   "id": "278b63fc",
   "metadata": {},
   "outputs": [
    {
     "data": {
      "text/plain": [
       "array([-1.15562725e+02, -2.31697842e-02, -1.28660088e+00, -9.43291495e+01,\n",
       "        2.58746954e+01, -6.54537249e+03])"
      ]
     },
     "execution_count": 3,
     "metadata": {},
     "output_type": "execute_result"
    }
   ],
   "source": [
    "x_tr_array = SplitData(x_array_data, y_array_data, 0.25, 0)[0]\n",
    "x_ts_array = SplitData(x_array_data, y_array_data, 0.25, 0)[1]\n",
    "y_tr_array = SplitData(x_array_data, y_array_data, 0.25, 0)[2]\n",
    "y_ts_array = SplitData(x_array_data, y_array_data, 0.25, 0)[3]\n",
    "w = np.linalg.inv(np.transpose(x_tr_array) @ x_tr_array) @ np.transpose(x_tr_array) @ y_tr_array\n",
    "w"
   ]
  },
  {
   "cell_type": "code",
   "execution_count": 4,
   "id": "cb8907ef",
   "metadata": {},
   "outputs": [
    {
     "name": "stdout",
     "output_type": "stream",
     "text": [
      "3739834.103842158\n"
     ]
    }
   ],
   "source": [
    "print(MeanSquareError(w, x_ts_array, y_ts_array))"
   ]
  },
  {
   "cell_type": "code",
   "execution_count": null,
   "id": "dd0341af",
   "metadata": {},
   "outputs": [],
   "source": []
  }
 ],
 "metadata": {
  "kernelspec": {
   "display_name": "Python 3 (ipykernel)",
   "language": "python",
   "name": "python3"
  },
  "language_info": {
   "codemirror_mode": {
    "name": "ipython",
    "version": 3
   },
   "file_extension": ".py",
   "mimetype": "text/x-python",
   "name": "python",
   "nbconvert_exporter": "python",
   "pygments_lexer": "ipython3",
   "version": "3.9.12"
  }
 },
 "nbformat": 4,
 "nbformat_minor": 5
}
