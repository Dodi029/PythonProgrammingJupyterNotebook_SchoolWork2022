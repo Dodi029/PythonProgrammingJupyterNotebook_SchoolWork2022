{
 "cells": [
  {
   "cell_type": "code",
   "execution_count": 8,
   "id": "e7e87267",
   "metadata": {},
   "outputs": [],
   "source": [
    "import numpy as np\n",
    "import random\n",
    "\n",
    "data = open(\"ToyotaCorolla (1).txt\",\"r\")\n",
    "read = data.readlines()\n",
    "del read[0]\n",
    "\n",
    "X1 = []\n",
    "X2 = []\n",
    "X3 = []\n",
    "X4 = []\n",
    "X5 = []\n",
    "X6 = []\n",
    "Y = []\n",
    "\n",
    "for i in read:\n",
    "    ary = i.split('\\t')\n",
    "    X1.append(int(ary[2]))\n",
    "    X2.append(int(ary[3]))\n",
    "    X3.append(int(ary[4]))\n",
    "    X4.append(int(ary[5]))\n",
    "    X5.append(int(ary[6]))\n",
    "    X6.append(1)\n",
    "    Y.append(int(ary[1]))\n",
    "data_read = np.array([Y,X1,X2,X3,X4,X5,X6])\n",
    "data_read = np.transpose(data_read)\n",
    "Test_size = len(Y)"
   ]
  },
  {
   "cell_type": "code",
   "execution_count": 9,
   "id": "8c483def",
   "metadata": {},
   "outputs": [],
   "source": [
    "def split_data(size, seed, rate,data_tot):\n",
    "    rand = np.random.RandomState(seed)\n",
    "    rand.shuffle(data_tot)\n",
    "    \n",
    "    x_array = data_tot[:,1:7]\n",
    "    y_array = data_tot[:,:1]\n",
    "    \n",
    "    train_num = int(size * rate)\n",
    "    test_num = size - train_num\n",
    "    \n",
    "    x_train = x_array[:train_num,:]\n",
    "    x_test = x_array[train_num:,:]\n",
    "    y_train = y_array[:train_num,:]\n",
    "    y_test = y_array[train_num:,:]\n",
    "    return x_train,x_test,y_train,y_test"
   ]
  },
  {
   "cell_type": "code",
   "execution_count": 10,
   "id": "09dd5e06",
   "metadata": {},
   "outputs": [],
   "source": [
    "class Multiple_Linear_Regression:\n",
    "    \n",
    "    def __init__(self,intercept):\n",
    "        self.intercept = intercept\n",
    "        \n",
    "    def fit(self, x_input, y_input):\n",
    "        x_tp = np.transpose(x_input)\n",
    "        self.w = (np.linalg.inv(x_tp@x_input))@x_tp@y_input\n",
    "        \n",
    "    def predict(self, x_predict):\n",
    "        \n",
    "        if(self.intercept):\n",
    "            y_predict = x_predict@self.w\n",
    "            return y_predict\n",
    "        else:\n",
    "            w_size = np.size(self.w)\n",
    "            new_w = self.w[:w_size-1,:]\n",
    "            new_x = x_predict[:,:w_size-1]\n",
    "            y_predict = new_x@new_w\n",
    "            return y_predict\n"
   ]
  },
  {
   "cell_type": "code",
   "execution_count": 11,
   "id": "73ab48a8",
   "metadata": {},
   "outputs": [],
   "source": [
    "class Metrix:\n",
    "    \n",
    "    def MSE(self, true_y, pred_y):\n",
    "        y1 = true_y.flatten()\n",
    "        y2 = pred_y.flatten()\n",
    "        size = np.size(y1)\n",
    "        sigma = 0\n",
    "        j = 0\n",
    "        for i in y1:\n",
    "            sigma = sigma + (i-y2[j])**2\n",
    "            j = j + 1\n",
    "            \n",
    "        result = sigma/size\n",
    "        return result\n",
    "    \n",
    "    def MAPE(self, true_y, pred_y):\n",
    "        y1 = true_y.flatten()\n",
    "        y2 = pred_y.flatten()\n",
    "        size = np.size(y1)\n",
    "        sigma = 0\n",
    "        j = 0\n",
    "        for i in y1:\n",
    "            sigma = sigma + abs(i-y2[j])/abs(y2[j])*100\n",
    "            j = j+1\n",
    "            \n",
    "        result = sigma/size\n",
    "        return result"
   ]
  },
  {
   "cell_type": "code",
   "execution_count": 12,
   "id": "d4099a6b",
   "metadata": {},
   "outputs": [
    {
     "name": "stdout",
     "output_type": "stream",
     "text": [
      "MSE = 2464199.25, MAPE = 11.12\n"
     ]
    }
   ],
   "source": [
    "result = split_data(Test_size,100,0.75,data_read)\n",
    "#print(result[0])\n",
    "mlg = Multiple_Linear_Regression(True)\n",
    "mlg.fit(result[0],result[2])\n",
    "#print(mlg.w)\n",
    "y_predict = mlg.predict(result[1])\n",
    "\n",
    "pred = Metrix()\n",
    "result_MSE = pred.MSE(result[3],y_predict)\n",
    "result_MAPE = pred.MAPE(result[3],y_predict)\n",
    "print(\"MSE = %.2f, MAPE = %.2f\"%(result_MSE,result_MAPE))"
   ]
  },
  {
   "cell_type": "code",
   "execution_count": null,
   "id": "2265373b",
   "metadata": {},
   "outputs": [],
   "source": []
  }
 ],
 "metadata": {
  "kernelspec": {
   "display_name": "Python 3 (ipykernel)",
   "language": "python",
   "name": "python3"
  },
  "language_info": {
   "codemirror_mode": {
    "name": "ipython",
    "version": 3
   },
   "file_extension": ".py",
   "mimetype": "text/x-python",
   "name": "python",
   "nbconvert_exporter": "python",
   "pygments_lexer": "ipython3",
   "version": "3.10.8"
  }
 },
 "nbformat": 4,
 "nbformat_minor": 5
}
