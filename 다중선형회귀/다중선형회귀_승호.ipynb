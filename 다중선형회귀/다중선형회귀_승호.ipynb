{
 "cells": [
  {
   "cell_type": "code",
   "execution_count": 1,
   "metadata": {},
   "outputs": [],
   "source": [
    "#f = open('./data.txt','r',encoding='utf-8')\n",
    "f = open('/Users/doyoung/Downloads/ToyotaCorolla.txt', 'r', encoding='utf-8')\n",
    "data = f.readlines()\n",
    "    \n",
    "f.close()"
   ]
  },
  {
   "cell_type": "code",
   "execution_count": 2,
   "metadata": {},
   "outputs": [],
   "source": [
    "import os\n",
    "import numpy as np\n",
    "\n",
    "os.getcwd()\n",
    "\n",
    "xy_list = []\n",
    "\n",
    "for i in range (len(data)):\n",
    "    data[i]=data[i].replace(',', '.')\n",
    "    xy_list.append(data[i].split('\\t'))\n",
    "    \n",
    "for i in range(1, len(xy_list)):\n",
    "    xy_list[i][1]=xy_list[i][1].replace('\\'','')\n",
    "\n",
    "for i in range(1, len(xy_list)):\n",
    "    xy_list[0][1] = xy_list[0][1].rstrip()\n",
    "    xy_list[0][2] = xy_list[0][2].rstrip()\n",
    "    xy_list[0][3] = xy_list[0][3].rstrip()\n",
    "    xy_list[0][4] = xy_list[0][4].rstrip()\n",
    "    xy_list[0][5] = xy_list[0][5].rstrip()\n",
    "    xy_list[0][6] = xy_list[0][6].rstrip()\n",
    "    \n",
    "    xy_list[i][1] = int(xy_list[i][1])\n",
    "    xy_list[i][2] = int(xy_list[i][2])\n",
    "    xy_list[i][3] = int(xy_list[i][3])\n",
    "    xy_list[i][4] = int(xy_list[i][4])\n",
    "    xy_list[i][5] = int(xy_list[i][5])\n",
    "    xy_list[i][6] = int(xy_list[i][6])\n",
    "    xy_list[i].append(1)\n",
    "    \n",
    "data_x1 = []\n",
    "data_x2 = []\n",
    "data_x3 = []\n",
    "data_x4 = []\n",
    "data_x5 = []\n",
    "data_x = []\n",
    "data_y = []\n",
    "\n",
    "for i in range(1,len(xy_list)):\n",
    "    data_y.append(xy_list[i][1])\n",
    "    data_x1.append(xy_list[i][2])\n",
    "    data_x2.append(xy_list[i][3])\n",
    "    data_x3.append(xy_list[i][4])\n",
    "    data_x4.append(xy_list[i][5])\n",
    "    data_x5.append(xy_list[i][6])\n",
    "    \n",
    "    data_x.append([xy_list[i][1], xy_list[i][2], xy_list[i][3], xy_list[i][4], xy_list[i][5], xy_list[i][6], xy_list[i][7]])\n",
    "    \n",
    "x_array = np.array(data_x)\n",
    "\n",
    "rand = np.random.RandomState(100)\n",
    "rand.shuffle(x_array)"
   ]
  },
  {
   "cell_type": "code",
   "execution_count": 3,
   "metadata": {},
   "outputs": [],
   "source": [
    "tr = round(0.75 * len(x_array))"
   ]
  },
  {
   "cell_type": "code",
   "execution_count": 4,
   "metadata": {},
   "outputs": [],
   "source": [
    "def slicing(x_array):\n",
    "    x_tr = []\n",
    "    x_ts = []\n",
    "    y_tr = []\n",
    "    y_ts = []\n",
    "    \n",
    "    x_tr = x_array[:tr, 1:7]\n",
    "    x_tr = np.array(x_tr)\n",
    "\n",
    "    x_ts = x_array[tr:, 1:7]\n",
    "    x_ts = np.array(x_ts)\n",
    "    \n",
    "    for i in range(tr):\n",
    "        y_tr.append([x_array[i][0]])\n",
    "    y_tr = np.array(y_tr)\n",
    "\n",
    "    for i in range(len(x_array)-tr):\n",
    "        y_ts.append([x_array[i+tr][0]])\n",
    "    y_ts = np.array(y_ts)\n",
    "    return x_tr, x_ts, y_tr, y_ts "
   ]
  },
  {
   "cell_type": "code",
   "execution_count": 5,
   "metadata": {},
   "outputs": [],
   "source": [
    "a=slicing(x_array)"
   ]
  },
  {
   "cell_type": "code",
   "execution_count": 9,
   "metadata": {},
   "outputs": [],
   "source": [
    "def Learn(x ,y):\n",
    "    w1 = np.linalg.inv(x.T @ x) \n",
    "    print(w1)\n",
    "    w2 = w1 @ x.T\n",
    "    print(w2)\n",
    "    w3 = w2 @ y\n",
    "    print(w3)\n",
    "    return w3\n",
    "def test(x, y, w):\n",
    "    pred_y = []\n",
    "    pred_y = np.array(pred_y)\n",
    "    pred_y = np.dot(x, w)\n",
    "    for i in range(len(pred_y)):\n",
    "        print(\"%.1f\"%(pred_y[i]), y[i])"
   ]
  },
  {
   "cell_type": "code",
   "execution_count": 10,
   "metadata": {},
   "outputs": [
    {
     "name": "stdout",
     "output_type": "stream",
     "text": [
      "[[ 4.77782262e-06 -1.15393221e-09 -7.02069985e-09 -1.35156089e-06\n",
      "   7.50417254e-07 -9.77510072e-04]\n",
      " [-1.15393221e-09  1.05947470e-12 -8.24909209e-11  1.59722180e-10\n",
      "   1.55942661e-11  1.04306981e-07]\n",
      " [-7.02069985e-09 -8.24909209e-11  5.39335992e-08  6.25127575e-07\n",
      "  -1.25851137e-07  5.40100774e-05]\n",
      " [-1.35156089e-06  1.59722180e-10  6.25127575e-07  1.13246726e-03\n",
      "  -7.64669266e-06  2.70304615e-03]\n",
      " [ 7.50417254e-07  1.55942661e-11 -1.25851137e-07 -7.64669266e-06\n",
      "   7.60294895e-07 -6.30717408e-04]\n",
      " [-9.77510072e-04  1.04306981e-07  5.40100774e-05  2.70304615e-03\n",
      "  -6.30717408e-04  6.29743445e-01]]\n",
      "[[-8.65294009e-05  6.53070129e-05 -5.42355668e-05 ... -4.93950038e-05\n",
      "   4.22400870e-06 -7.87779895e-05]\n",
      " [ 2.24831132e-08 -4.55127941e-08 -3.00868453e-08 ...  5.01536150e-09\n",
      "  -2.20239310e-09 -2.74927545e-09]\n",
      " [-1.07816560e-05  6.34313391e-06  9.00382071e-06 ... -2.33051875e-06\n",
      "   4.23018863e-07  8.37178065e-06]\n",
      " [ 7.24459667e-04 -1.01132610e-03 -9.00714945e-04 ... -9.19976125e-04\n",
      "   9.68259003e-04  3.07629579e-04]\n",
      " [ 1.89662713e-05 -6.57170583e-06 -3.46651563e-05 ... -1.29480610e-05\n",
      "  -3.85203508e-08 -4.64428682e-05]\n",
      " [-2.15360096e-03  1.58275615e-03  3.27493895e-02 ...  2.46237242e-02\n",
      "  -3.70188740e-03  4.09950508e-02]]\n",
      "[[-1.22708575e+02]\n",
      " [-2.29000258e-02]\n",
      " [-9.49099185e-01]\n",
      " [-2.90053771e+01]\n",
      " [ 2.04829292e+01]\n",
      " [-1.24494689e+03]]\n"
     ]
    }
   ],
   "source": [
    "w = Learn(a[0], a[2])"
   ]
  },
  {
   "cell_type": "code",
   "execution_count": 11,
   "metadata": {},
   "outputs": [
    {
     "data": {
      "text/plain": [
       "array([[-1.22708575e+02],\n",
       "       [-2.29000258e-02],\n",
       "       [-9.49099185e-01],\n",
       "       [-2.90053771e+01],\n",
       "       [ 2.04829292e+01],\n",
       "       [-1.24494689e+03]])"
      ]
     },
     "execution_count": 11,
     "metadata": {},
     "output_type": "execute_result"
    }
   ],
   "source": [
    "#test(a[1], a[3], w)\n",
    "w"
   ]
  },
  {
   "cell_type": "code",
   "execution_count": null,
   "metadata": {},
   "outputs": [],
   "source": []
  }
 ],
 "metadata": {
  "kernelspec": {
   "display_name": "Python 3 (ipykernel)",
   "language": "python",
   "name": "python3"
  },
  "language_info": {
   "codemirror_mode": {
    "name": "ipython",
    "version": 3
   },
   "file_extension": ".py",
   "mimetype": "text/x-python",
   "name": "python",
   "nbconvert_exporter": "python",
   "pygments_lexer": "ipython3",
   "version": "3.9.12"
  }
 },
 "nbformat": 4,
 "nbformat_minor": 2
}
