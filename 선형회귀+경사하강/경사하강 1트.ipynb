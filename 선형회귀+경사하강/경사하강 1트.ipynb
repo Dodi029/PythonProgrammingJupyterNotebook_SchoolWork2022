{
 "cells": [
  {
   "cell_type": "code",
   "execution_count": 12,
   "id": "d565009b",
   "metadata": {},
   "outputs": [
    {
     "data": {
      "text/plain": [
       "42.620000000000005"
      ]
     },
     "execution_count": 12,
     "metadata": {},
     "output_type": "execute_result"
    }
   ],
   "source": [
    "def add(a,b):\n",
    "    return a+b\n",
    "def minus(a,b):\n",
    "    return a-b\n",
    "def multi(a,b):\n",
    "    return a*b\n",
    "def divid(a,b):\n",
    "    return a/b\n",
    "\n",
    "add(minus(add(3,2),divid(3.2,0.5)),multi(add(22,0.01),2))"
   ]
  },
  {
   "cell_type": "code",
   "execution_count": 20,
   "id": "632360c8",
   "metadata": {},
   "outputs": [],
   "source": [
    "import os\n",
    "import math\n",
    "import matplotlib.pyplot as plt\n",
    "import numpy as np\n",
    "os.getcwd()\n",
    "\n",
    "f = open('/Users/doyoung/Downloads/Simple_Linear_Regression_Practice_Data.txt', 'r', encoding='utf-8')\n",
    "data = f.readlines()\n",
    "f.close()\n",
    "\n",
    "xy = []\n",
    "\n",
    "for i in range (len(data)):\n",
    "    data[i]=data[i].replace(',', '.')\n",
    "    #data[i]=data[i].replace('\"\"', ' ')\n",
    "    xy.append(data[i].split('\\t'))\n",
    "    \n",
    "for i in range(1, len(xy)):\n",
    "    xy[i][1]=xy[i][1].replace('\"','')\n",
    "for i in range(1, len(xy)):\n",
    "    xy[0][1] = xy[0][1].rstrip()\n",
    "    xy[i][0] = int(xy[i][0])\n",
    "    xy[i][1] = float(xy[i][1])\n",
    "\n",
    "data_x=[]\n",
    "data_y=[]\n",
    "for i in range(1,len(xy)):\n",
    "    data_x.append(xy[i][0])\n",
    "    data_y.append(xy[i][1])"
   ]
  },
  {
   "cell_type": "code",
   "execution_count": 21,
   "id": "d19946aa",
   "metadata": {},
   "outputs": [],
   "source": [
    "x_data = np.array(data_x) #넘파이 배열로 변환\n",
    "y_data = np.array(data_y)\n",
    "\n",
    "w = 0 # 기울기 초기화\n",
    "w1= 0 # y절편 초기화\n",
    "\n",
    "tr = 0.0001 # 학습률\n",
    "\n",
    "ep = 100 # 반복횟수"
   ]
  },
  {
   "cell_type": "code",
   "execution_count": 22,
   "id": "3bf4711b",
   "metadata": {
    "scrolled": true
   },
   "outputs": [
    {
     "name": "stdout",
     "output_type": "stream",
     "text": [
      "반복 = 0, 기울기=w = 0, 절편=w1 = 0, 에러 = 98\n"
     ]
    }
   ],
   "source": [
    "for i in range(ep):\n",
    "    y_pred = w * x_data + w1 # y 예측 값을 구하는 식\n",
    "    error = y_data - y_pred # 오차 error = y 값 - y 예측 값\n",
    "    \n",
    "    w_diff = -(1 / len(x_data)) * sum(x_data * (error)) # 평균 제곱 오차를 w로 미분한 값\n",
    "    w1_diff = -(1 / len(x_data)) * sum(y_data - y_pred) # 평균 제곱 오차를 w1으로 미분한 값\n",
    "    \n",
    "    w = w - tr * w_diff\n",
    "    w1 = w1 - tr * w1_diff\n",
    "    \n",
    "    if (i%100 == 0):\n",
    "        print(\"반복 = %.f, 기울기=w = %.f, 절편=w1 = %.f, 에러 = %.f\" %(i, w, w1, error.mean()))"
   ]
  },
  {
   "cell_type": "code",
   "execution_count": 23,
   "id": "e09421bb",
   "metadata": {},
   "outputs": [
    {
     "data": {
      "text/plain": [
       "<matplotlib.collections.PathCollection at 0x7fcbd8029130>"
      ]
     },
     "execution_count": 23,
     "metadata": {},
     "output_type": "execute_result"
    },
    {
     "data": {
      "image/png": "[encoded data removed]",
      "text/plain": [
       "<Figure size 432x288 with 1 Axes>"
      ]
     },
     "metadata": {
      "needs_background": "light"
     },
     "output_type": "display_data"
    }
   ],
   "source": [
    "plt.scatter(x_data,y_data)"
   ]
  },
  {
   "cell_type": "code",
   "execution_count": 51,
   "id": "4ce73e65",
   "metadata": {},
   "outputs": [
    {
     "data": {
      "text/plain": [
       "nan"
      ]
     },
     "execution_count": 51,
     "metadata": {},
     "output_type": "execute_result"
    }
   ],
   "source": [
    "w1"
   ]
  },
  {
   "cell_type": "code",
   "execution_count": 46,
   "id": "0367d535",
   "metadata": {},
   "outputs": [
    {
     "data": {
      "text/plain": [
       "nan"
      ]
     },
     "execution_count": 46,
     "metadata": {},
     "output_type": "execute_result"
    }
   ],
   "source": [
    "w"
   ]
  }
 ],
 "metadata": {
  "kernelspec": {
   "display_name": "Python 3 (ipykernel)",
   "language": "python",
   "name": "python3"
  },
  "language_info": {
   "codemirror_mode": {
    "name": "ipython",
    "version": 3
   },
   "file_extension": ".py",
   "mimetype": "text/x-python",
   "name": "python",
   "nbconvert_exporter": "python",
   "pygments_lexer": "ipython3",
   "version": "3.9.12"
  }
 },
 "nbformat": 4,
 "nbformat_minor": 5
}
