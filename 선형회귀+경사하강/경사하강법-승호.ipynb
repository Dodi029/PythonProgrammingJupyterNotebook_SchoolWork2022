{
 "cells": [
  {
   "cell_type": "code",
   "execution_count": 1,
   "id": "e7bc81f9",
   "metadata": {},
   "outputs": [],
   "source": [
    "data_x = [2,4,6,8]\n",
    "data_y = [81,93,91,97]"
   ]
  },
  {
   "cell_type": "code",
   "execution_count": 2,
   "id": "b837bde0",
   "metadata": {},
   "outputs": [],
   "source": [
    "w1=0.0\n",
    "w0=0.0\n",
    "a = 0.05 \n",
    "r = 0\n",
    "\n",
    "error = []\n",
    "t = []\n",
    "k = []\n",
    "pred_y = []\n",
    "repeat = 2000"
   ]
  },
  {
   "cell_type": "code",
   "execution_count": 3,
   "id": "e688aa6a",
   "metadata": {},
   "outputs": [],
   "source": [
    "def aa(w1,w0,x_data, k):\n",
    "    if k == 0:\n",
    "        for i in range(0,len(x_data)):\n",
    "            pred_y.append(0)\n",
    "        return pred_y\n",
    "    else:\n",
    "        for i in range(0,len(x_data)):\n",
    "            pred_y.append(w1*x_data[i]+w0)\n",
    "        return pred_y\n",
    "        \n",
    "def bb(y_data,y_pred):\n",
    "    error = []\n",
    "    for i in range(0,len(y_data)):\n",
    "        error.append(y_data[i]-y_pred[i])\n",
    "    return error    \n",
    "        \n",
    "def cc(x_data,err):\n",
    "    t = []\n",
    "    for i in range(0,len(x_data)):\n",
    "        t.append(x_data[i]*err[i])\n",
    "    return t    \n",
    "def dd(y_data,y_pred):\n",
    "    k = []\n",
    "    for i in range(0,len(y_data)):\n",
    "        k.append(y_data[i]-y_pred[i])\n",
    "    return k"
   ]
  },
  {
   "cell_type": "code",
   "execution_count": 4,
   "id": "71b5b525",
   "metadata": {},
   "outputs": [
    {
     "name": "stdout",
     "output_type": "stream",
     "text": [
      "반복횟수 = 0, 기울기 = 23.2000, 절편 = 4.5250, 에러 = 90.5000\n",
      "반복횟수 = 100, 기울기 = 7.9316, 절편 = 45.3932, 에러 = 5.4935\n",
      "반복횟수 = 200, 기울기 = 4.7953, 절편 = 64.1094, 에러 = 2.4341\n",
      "반복횟수 = 300, 기울기 = 3.4056, 절편 = 72.4022, 에러 = 1.0785\n",
      "반복횟수 = 400, 기울기 = 2.7899, 절편 = 76.0766, 에러 = 0.4779\n",
      "반복횟수 = 500, 기울기 = 2.5171, 절편 = 77.7047, 에러 = 0.2117\n",
      "반복횟수 = 600, 기울기 = 2.3962, 절편 = 78.4261, 에러 = 0.0938\n",
      "반복횟수 = 700, 기울기 = 2.3426, 절편 = 78.7457, 에러 = 0.0416\n",
      "반복횟수 = 800, 기울기 = 2.3189, 절편 = 78.8873, 에러 = 0.0184\n",
      "반복횟수 = 900, 기울기 = 2.3084, 절편 = 78.9501, 에러 = 0.0082\n",
      "반복횟수 = 1000, 기울기 = 2.3037, 절편 = 78.9779, 에러 = 0.0036\n",
      "반복횟수 = 1100, 기울기 = 2.3016, 절편 = 78.9902, 에러 = 0.0016\n",
      "반복횟수 = 1200, 기울기 = 2.3007, 절편 = 78.9957, 에러 = 0.0007\n",
      "반복횟수 = 1300, 기울기 = 2.3003, 절편 = 78.9981, 에러 = 0.0003\n",
      "반복횟수 = 1400, 기울기 = 2.3001, 절편 = 78.9991, 에러 = 0.0001\n",
      "반복횟수 = 1500, 기울기 = 2.3001, 절편 = 78.9996, 에러 = 0.0001\n",
      "반복횟수 = 1600, 기울기 = 2.3000, 절편 = 78.9998, 에러 = 0.0000\n",
      "반복횟수 = 1700, 기울기 = 2.3000, 절편 = 78.9999, 에러 = 0.0000\n",
      "반복횟수 = 1800, 기울기 = 2.3000, 절편 = 79.0000, 에러 = 0.0000\n",
      "반복횟수 = 1900, 기울기 = 2.3000, 절편 = 79.0000, 에러 = 0.0000\n"
     ]
    }
   ],
   "source": [
    "w1=0.0\n",
    "w0=0.0\n",
    "a = 0.05 \n",
    "r = 0\n",
    "\n",
    "for i in range(repeat):\n",
    "    \n",
    "    pred_y = aa(w1,w0,data_x,i)\n",
    "    error = bb(data_y,pred_y)\n",
    "    t = cc(data_x,error)\n",
    "    k = dd(data_y,pred_y)\n",
    "    \n",
    "    w1_diff = -(1/len(data_x))*sum(t)  \n",
    "    w0_diff = -(1/len(data_x))*sum(k)\n",
    "    \n",
    "    avg_error = sum(error)/len(error)\n",
    "    \n",
    "    w1 = w1 - a * w1_diff\n",
    "    w0 = w0 - a * w0_diff\n",
    "    if i%100==0:\n",
    "        print(\"반복횟수 = %.f, 기울기 = %.04f, 절편 = %.04f, 에러 = %.04f\" % (i, w1, w0, avg_error))\n",
    "    pred_y = []    "
   ]
  }
 ],
 "metadata": {
  "kernelspec": {
   "display_name": "Python 3 (ipykernel)",
   "language": "python",
   "name": "python3"
  },
  "language_info": {
   "codemirror_mode": {
    "name": "ipython",
    "version": 3
   },
   "file_extension": ".py",
   "mimetype": "text/x-python",
   "name": "python",
   "nbconvert_exporter": "python",
   "pygments_lexer": "ipython3",
   "version": "3.9.12"
  }
 },
 "nbformat": 4,
 "nbformat_minor": 5
}
