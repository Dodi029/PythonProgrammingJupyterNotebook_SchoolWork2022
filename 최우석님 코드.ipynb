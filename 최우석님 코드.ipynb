{
 "cells": [
  {
   "cell_type": "markdown",
   "id": "85bf8aeb",
   "metadata": {},
   "source": [
    "# 문제 1번"
   ]
  },
  {
   "cell_type": "code",
   "execution_count": null,
   "id": "b0a75072",
   "metadata": {},
   "outputs": [],
   "source": [
    "import numpy as np\n",
    "\n",
    "file = open('heart.data.txt','r',encoding='utf-8')\n",
    "raw_data = file.readlines()\n",
    "file.close()\n",
    "\n",
    "data=[]\n",
    "length = len(raw_data)\n",
    "i = 1\n",
    "\n",
    "while(i<length):\n",
    "    temp = raw_data[i].split()\n",
    "    biking = float(temp[1])\n",
    "    smoking = float(temp[2])\n",
    "    heart_disease = float(temp[3].strip('\"\"\"'))\n",
    "    data.append([biking,smoking,heart_disease])\n",
    "    i+=1\n",
    "    \n",
    "numpy_data = np.array(data)\n",
    "Input_X = numpy_data[:,[0,1]]\n",
    "Output_Y = numpy_data[:,2]"
   ]
  },
  {
   "cell_type": "markdown",
   "id": "7d943687",
   "metadata": {},
   "source": [
    "# 문제 2번"
   ]
  },
  {
   "cell_type": "code",
   "execution_count": null,
   "id": "88799572",
   "metadata": {},
   "outputs": [],
   "source": [
    "import numpy as np\n",
    "\n",
    "def Train_test_split(X,Y,rate=0.25,random=False,random_seed=None):\n",
    "    index = np.array(range(len(X)))\n",
    "    test_size = round(len(X)*rate)\n",
    "\n",
    "    if(random == True):\n",
    "        if(random_seed !=None):\n",
    "            random_generator = np.random.RandomState(seed=random_seed)\n",
    "            random_generator.shuffle(index)\n",
    "\n",
    "        else:\n",
    "            np.random.shuffle(index)\n",
    "\n",
    "        test_index = index[0:test_size]\n",
    "        train_index = index[test_size:]\n",
    "        \n",
    "        X_train = X[train_index,:]\n",
    "        X_test = X[test_index,:]\n",
    "        Y_train = Y[train_index]\n",
    "        Y_test = Y[test_index]\n",
    "        \n",
    "        return X_train, X_test, Y_train, Y_test\n",
    "    \n",
    "    else:\n",
    "        test_index = index[0:test_size]\n",
    "        train_index = index[test_size:]\n",
    "        \n",
    "        X_train = X[train_index,:]\n",
    "        X_test = X[test_index,:]\n",
    "        Y_train = Y[train_index]\n",
    "        Y_test = Y[test_index]\n",
    "        \n",
    "        return X_train, X_test, Y_train, Y_test"
   ]
  },
  {
   "cell_type": "markdown",
   "id": "ce2f2fec",
   "metadata": {},
   "source": [
    "# 문제 3번"
   ]
  },
  {
   "cell_type": "code",
   "execution_count": null,
   "id": "943aae3c",
   "metadata": {},
   "outputs": [],
   "source": [
    "import numpy as np\n",
    "\n",
    "class MLR:\n",
    "    def __init__(self):\n",
    "        self.coef = None\n",
    "        \n",
    "    def intercept_add(self,X):\n",
    "        ones = np.ones(len(X)).reshape(-1,1)\n",
    "        result = np.concatenate([X,ones],axis=1)\n",
    "        return result\n",
    "    \n",
    "    def fit(self,X,Y,intercept_add=False):\n",
    "        if(intercept_add == True):\n",
    "            new_X = self.intercept_add(X)\n",
    "            self.coef = np.linalg.inv(new_X.transpose()@new_X)@new_X.transpose()@Y\n",
    "            return self.coef\n",
    "        else:\n",
    "            self.coef = np.linalg.inv(X.transpose()@X)@X.transpose()@Y\n",
    "            return self.coef\n",
    "        \n",
    "    def predict(self,X,intercept_add=False):\n",
    "        if(intercept_add==True):\n",
    "            new_X = self.intercept_add(X)\n",
    "            predict_value = new_X@self.coef\n",
    "            return predict_value\n",
    "        else:\n",
    "            predict_value = X@self.coef\n",
    "            return predict_value"
   ]
  },
  {
   "cell_type": "markdown",
   "id": "60a96192",
   "metadata": {},
   "source": [
    "# 문제 4번"
   ]
  },
  {
   "cell_type": "code",
   "execution_count": null,
   "id": "4eb02cef",
   "metadata": {},
   "outputs": [],
   "source": [
    "import numpy as np\n",
    "\n",
    "class Metric:\n",
    "    def __init__(self):\n",
    "        self.mse_result=0\n",
    "        self.mape_result=0\n",
    "        \n",
    "    def MSE(self,true_y,pred_y):\n",
    "        residual = true_y - pred_y\n",
    "        square_residual = residual*residual\n",
    "        self.mse_result =  np.mean(square_residual)\n",
    "        return self.mse_result\n",
    "        \n",
    "    def MAPE(self,true_y,pred_y):\n",
    "        residual = true_y - pred_y\n",
    "        temp = np.abs(residual)/np.abs(true_y)*100\n",
    "        self.mape_result = np.mean(temp)\n",
    "        return self.mape_result"
   ]
  },
  {
   "cell_type": "markdown",
   "id": "11d9b808",
   "metadata": {},
   "source": [
    "# 문제 5번"
   ]
  },
  {
   "cell_type": "code",
   "execution_count": 2,
   "id": "9b3bb873",
   "metadata": {},
   "outputs": [],
   "source": [
    "import numpy as np\n",
    "\n",
    "def Train_test_split(X,Y,rate=0.25,random=False,random_seed=None):\n",
    "    index = np.array(range(len(X)))\n",
    "    test_size = round(len(X)*rate)\n",
    "\n",
    "    if(random == True):\n",
    "        if(random_seed !=None):\n",
    "            random_generator = np.random.RandomState(seed=random_seed)\n",
    "            random_generator.shuffle(index)\n",
    "\n",
    "        else:\n",
    "            np.random.shuffle(index)\n",
    "\n",
    "        test_index = index[0:test_size]\n",
    "        train_index = index[test_size:]\n",
    "        \n",
    "        X_train = X[train_index,:]\n",
    "        X_test = X[test_index,:]\n",
    "        Y_train = Y[train_index]\n",
    "        Y_test = Y[test_index]\n",
    "        \n",
    "        return X_train, X_test, Y_train, Y_test\n",
    "    \n",
    "    else:\n",
    "        test_index = index[0:test_size]\n",
    "        train_index = index[test_size:]\n",
    "        \n",
    "        X_train = X[train_index,:]\n",
    "        X_test = X[test_index,:]\n",
    "        Y_train = Y[train_index]\n",
    "        Y_test = Y[test_index]\n",
    "        \n",
    "        return X_train, X_test, Y_train, Y_test\n",
    "    \n",
    "class MLR:\n",
    "    def __init__(self):\n",
    "        self.coef = None\n",
    "        \n",
    "    def intercept_add(self,X):\n",
    "        ones = np.ones(len(X)).reshape(-1,1)\n",
    "        result = np.concatenate([X,ones],axis=1)\n",
    "        return result\n",
    "    \n",
    "    def fit(self,X,Y,intercept_add=False):\n",
    "        if(intercept_add == True):\n",
    "            new_X = self.intercept_add(X)\n",
    "            self.coef = np.linalg.inv(new_X.transpose()@new_X)@new_X.transpose()@Y\n",
    "            return self.coef\n",
    "        else:\n",
    "            self.coef = np.linalg.inv(X.transpose()@X)@X.transpose()@Y\n",
    "            return self.coef\n",
    "        \n",
    "    def predict(self,X,intercept_add=False):\n",
    "        if(intercept_add==True):\n",
    "            new_X = self.intercept_add(X)\n",
    "            predict_value = new_X@self.coef\n",
    "            return predict_value\n",
    "        else:\n",
    "            predict_value = X@self.coef\n",
    "            return predict_value\n",
    "        \n",
    "class Metric:\n",
    "    def __init__(self):\n",
    "        self.mse_result=0\n",
    "        self.mape_result=0\n",
    "        \n",
    "    def MSE(self,true_y,pred_y):\n",
    "        residual = true_y - pred_y\n",
    "        square_residual = residual*residual\n",
    "        self.mse_result =  np.mean(square_residual)\n",
    "        return self.mse_result\n",
    "        \n",
    "    def MAPE(self,true_y,pred_y):\n",
    "        residual = true_y - pred_y\n",
    "        temp = np.abs(residual)/np.abs(true_y)*100\n",
    "        self.mape_result = np.mean(temp)\n",
    "        return self.mape_result\n",
    "    \n",
    "file = open('./heart.data.txt','r',encoding='utf-8')\n",
    "raw_data = file.readlines()\n",
    "file.close()\n",
    "\n",
    "data=[]\n",
    "length = len(raw_data)\n",
    "i = 1\n",
    "\n",
    "while(i<length):\n",
    "    temp = raw_data[i].split()\n",
    "    biking = float(temp[1])\n",
    "    smoking = float(temp[2])\n",
    "    heart_disease = float(temp[3].strip('\"\"\"'))\n",
    "    data.append([biking,smoking,heart_disease])\n",
    "    i+=1\n",
    "\n",
    "numpy_data = np.array(data)\n",
    "Input_X = numpy_data[:,[0,1]]\n",
    "Output_Y = numpy_data[:,2]"
   ]
  },
  {
   "cell_type": "markdown",
   "id": "9fff595e",
   "metadata": {},
   "source": [
    "## 무작위로 5번 학습하여 MSE, MAPE 평균 구하기(학습 시 intercept_add 함수 사용함)"
   ]
  },
  {
   "cell_type": "code",
   "execution_count": 3,
   "id": "3c94bf16",
   "metadata": {},
   "outputs": [
    {
     "name": "stdout",
     "output_type": "stream",
     "text": [
      "무작위로 5번 실험 평균 MSE 결과: '0.5', MAPE 결과: '7.2'\n"
     ]
    }
   ],
   "source": [
    "mse_sum = 0\n",
    "mape_sum = 0\n",
    "for seed in range(5):\n",
    "    # def Train_test_split(X,Y,rate=0.25,random=False,random_seed=None):\n",
    "    X_train, X_test, Y_train, Y_test=Train_test_split(Input_X,Output_Y,0.3,True,seed)\n",
    "    model = MLR()\n",
    "    model.fit(X_train,Y_train,True)\n",
    "    Y_pred = model.predict(X_test,True)\n",
    "    test = Metric()\n",
    "    mse = test.MSE(Y_test,Y_pred)\n",
    "    mape = test.MAPE(Y_test,Y_pred)\n",
    "    mse_sum+=mse\n",
    "    mape_sum+=mape\n",
    "mse_mean = mse_sum/5\n",
    "mape_mean = mape_sum/5\n",
    "print(\"무작위로 5번 실험 평균 MSE 결과: '{:.1f}', MAPE 결과: '{:.1f}'\".format(mse_mean,mape_mean))"
   ]
  },
  {
   "cell_type": "markdown",
   "id": "ef6d8bb2",
   "metadata": {},
   "source": [
    "## 무작위로 데이터를 Train/Test 나누지 않고 순서대로 7:3 비율로 Train과 Test로 나누고 학습 및 평가(학습 시 intercept_add 함수 사용하지 않음)"
   ]
  },
  {
   "cell_type": "code",
   "execution_count": 4,
   "id": "261bb50b",
   "metadata": {},
   "outputs": [
    {
     "name": "stdout",
     "output_type": "stream",
     "text": [
      "Not 무작위 1번 실험 평균 MSE 결과: '34.9', MAPE 결과: '55.9'\n"
     ]
    }
   ],
   "source": [
    "X_train, X_test, Y_train, Y_test=Train_test_split(Input_X,Output_Y,0.3)\n",
    "model = MLR()\n",
    "model.fit(X_train,Y_train)\n",
    "Y_pred = model.predict(X_test)\n",
    "test = Metric()\n",
    "mse = test.MSE(Y_test,Y_pred)\n",
    "mape = test.MAPE(Y_test,Y_pred)\n",
    "print(\"Not 무작위 1번 실험 평균 MSE 결과: '{:.1f}', MAPE 결과: '{:.1f}'\".format(mse,mape))"
   ]
  }
 ],
 "metadata": {
  "kernelspec": {
   "display_name": "Python 3 (ipykernel)",
   "language": "python",
   "name": "python3"
  },
  "language_info": {
   "codemirror_mode": {
    "name": "ipython",
    "version": 3
   },
   "file_extension": ".py",
   "mimetype": "text/x-python",
   "name": "python",
   "nbconvert_exporter": "python",
   "pygments_lexer": "ipython3",
   "version": "3.9.12"
  }
 },
 "nbformat": 4,
 "nbformat_minor": 5
}
