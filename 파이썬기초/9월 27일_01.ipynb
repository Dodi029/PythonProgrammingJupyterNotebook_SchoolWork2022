{
 "cells": [
  {
   "cell_type": "code",
   "execution_count": 5,
   "id": "c2c6db88",
   "metadata": {},
   "outputs": [
    {
     "name": "stdout",
     "output_type": "stream",
     "text": [
      "아이언멘\n",
      "['아이언멘', '토르', '헐크', '위치', '스파이더맨']\n"
     ]
    }
   ],
   "source": [
    "heroes = ['아이언멘', '토르', '헐크', '위치']\n",
    "print(heroes[0])\n",
    "heroes.append(\"스파이더맨\")\n",
    "print(heroes)"
   ]
  },
  {
   "cell_type": "code",
   "execution_count": 9,
   "id": "65ded75a",
   "metadata": {},
   "outputs": [],
   "source": [
    "def address():\n",
    "    print(\"경기도 시흥시 산기대학로 237\")\n",
    "    print(\"한국공학대학교\")\n",
    "    print(\"공학관 E동\")"
   ]
  },
  {
   "cell_type": "code",
   "execution_count": 10,
   "id": "692aed90",
   "metadata": {},
   "outputs": [
    {
     "name": "stdout",
     "output_type": "stream",
     "text": [
      "경기도 시흥시 산기대학로 237\n",
      "한국공학대학교\n",
      "공학관 E동\n"
     ]
    }
   ],
   "source": [
    "address()"
   ]
  },
  {
   "cell_type": "code",
   "execution_count": 21,
   "id": "5d1fc956",
   "metadata": {},
   "outputs": [],
   "source": [
    "def rhq(m, n):\n",
    "    c = m*n\n",
    "    return c"
   ]
  },
  {
   "cell_type": "code",
   "execution_count": 22,
   "id": "fbd6bb10",
   "metadata": {},
   "outputs": [
    {
     "data": {
      "text/plain": [
       "15"
      ]
     },
     "execution_count": 22,
     "metadata": {},
     "output_type": "execute_result"
    }
   ],
   "source": [
    "rhq(3,5)"
   ]
  },
  {
   "cell_type": "code",
   "execution_count": 24,
   "id": "31d22a44",
   "metadata": {},
   "outputs": [],
   "source": [
    "def print_star(n):\n",
    "    for _ in range(n):\n",
    "        print(\"*\")"
   ]
  },
  {
   "cell_type": "code",
   "execution_count": 25,
   "id": "2712698e",
   "metadata": {},
   "outputs": [
    {
     "name": "stdout",
     "output_type": "stream",
     "text": [
      "*\n",
      "*\n",
      "*\n",
      "*\n",
      "*\n",
      "*\n",
      "*\n",
      "*\n",
      "*\n",
      "*\n"
     ]
    }
   ],
   "source": [
    "print_star(10)"
   ]
  },
  {
   "cell_type": "code",
   "execution_count": null,
   "id": "4bb0aaec",
   "metadata": {},
   "outputs": [],
   "source": [
    "def f(x):\n",
    "    y = x**2-x-1\n",
    "    return y\n",
    "\n",
    "def disfc(a, b):\n",
    "    while ((a+b)/2 > 0.001):\n",
    "        c = (a+b)/2\n",
    "        if (f(a)*f(c)<0):\n",
    "            c = (a+c)/2\n",
    "        elif (f(a)*f(c) = 0):\n",
    "            reutrn (c)\n",
    "        else:\n",
    "            c = (c+b)/2\n",
    "    return (c)"
   ]
  },
  {
   "cell_type": "code",
   "execution_count": null,
   "id": "c80b801b",
   "metadata": {},
   "outputs": [],
   "source": [
    "disfc(1, 2)"
   ]
  },
  {
   "cell_type": "code",
   "execution_count": null,
   "id": "448233ed",
   "metadata": {},
   "outputs": [],
   "source": [
    "k = 10\n",
    "\n",
    "def add(a, b):\n",
    "    c = a + b\n",
    "    c = c*k\n",
    "\n",
    "d = add(2,3)\n",
    "print(b)\n",
    "print(c)"
   ]
  },
  {
   "cell_type": "code",
   "execution_count": null,
   "id": "1c8e9878",
   "metadata": {},
   "outputs": [],
   "source": [
    "print(d)"
   ]
  }
 ],
 "metadata": {
  "kernelspec": {
   "display_name": "Python 3 (ipykernel)",
   "language": "python",
   "name": "python3"
  },
  "language_info": {
   "codemirror_mode": {
    "name": "ipython",
    "version": 3
   },
   "file_extension": ".py",
   "mimetype": "text/x-python",
   "name": "python",
   "nbconvert_exporter": "python",
   "pygments_lexer": "ipython3",
   "version": "3.9.12"
  }
 },
 "nbformat": 4,
 "nbformat_minor": 5
}
