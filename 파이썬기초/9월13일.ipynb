{
 "cells": [
  {
   "cell_type": "code",
   "execution_count": 8,
   "id": "54bd8b87",
   "metadata": {},
   "outputs": [],
   "source": [
    "data = \"hello\""
   ]
  },
  {
   "cell_type": "code",
   "execution_count": 10,
   "id": "facd8959",
   "metadata": {},
   "outputs": [
    {
     "data": {
      "text/plain": [
       "'hellohello'"
      ]
     },
     "execution_count": 10,
     "metadata": {},
     "output_type": "execute_result"
    }
   ],
   "source": [
    "data * 2"
   ]
  },
  {
   "cell_type": "code",
   "execution_count": 2,
   "id": "3c3114c2",
   "metadata": {},
   "outputs": [
    {
     "data": {
      "text/plain": [
       "str"
      ]
     },
     "execution_count": 2,
     "metadata": {},
     "output_type": "execute_result"
    }
   ],
   "source": [
    "type(data)"
   ]
  },
  {
   "cell_type": "code",
   "execution_count": 4,
   "id": "58eea098",
   "metadata": {},
   "outputs": [
    {
     "data": {
      "text/plain": [
       "True"
      ]
     },
     "execution_count": 4,
     "metadata": {},
     "output_type": "execute_result"
    }
   ],
   "source": [
    "'e' in data"
   ]
  },
  {
   "cell_type": "code",
   "execution_count": 5,
   "id": "334b2639",
   "metadata": {},
   "outputs": [],
   "source": [
    "a = [1,2,3]"
   ]
  },
  {
   "cell_type": "code",
   "execution_count": 6,
   "id": "b19ee7f1",
   "metadata": {},
   "outputs": [
    {
     "data": {
      "text/plain": [
       "True"
      ]
     },
     "execution_count": 6,
     "metadata": {},
     "output_type": "execute_result"
    }
   ],
   "source": [
    "2 in a"
   ]
  },
  {
   "cell_type": "code",
   "execution_count": 7,
   "id": "e2ff2f41",
   "metadata": {},
   "outputs": [
    {
     "data": {
      "text/plain": [
       "False"
      ]
     },
     "execution_count": 7,
     "metadata": {},
     "output_type": "execute_result"
    }
   ],
   "source": [
    "4 in a"
   ]
  },
  {
   "cell_type": "code",
   "execution_count": 12,
   "id": "8482e13b",
   "metadata": {},
   "outputs": [
    {
     "name": "stdout",
     "output_type": "stream",
     "text": [
      "구글 아마존 마이크로소프트 애플 야후\n"
     ]
    }
   ],
   "source": [
    "print(\"구글\", \"아마존\", \"마이크로소프트\", \"애플\", \"야후\")"
   ]
  },
  {
   "cell_type": "code",
   "execution_count": 13,
   "id": "bab71c7d",
   "metadata": {},
   "outputs": [
    {
     "name": "stdout",
     "output_type": "stream",
     "text": [
      "구글,아마존,마이크로소프트,애플,야후\n"
     ]
    }
   ],
   "source": [
    "print(\"구글\", \"아마존\", \"마이크로소프트\", \"애플\", \"야후\", sep=\",\")"
   ]
  },
  {
   "cell_type": "code",
   "execution_count": 14,
   "id": "9fac8bc8",
   "metadata": {},
   "outputs": [
    {
     "name": "stdout",
     "output_type": "stream",
     "text": [
      "구글*아마존*마이크로소프트*애플*야후\n"
     ]
    }
   ],
   "source": [
    "print(\"구글\", \"아마존\", \"마이크로소프트\", \"애플\", \"야후\", sep=\"*\")"
   ]
  },
  {
   "cell_type": "code",
   "execution_count": 15,
   "id": "7a421a25",
   "metadata": {},
   "outputs": [
    {
     "name": "stdout",
     "output_type": "stream",
     "text": [
      "이름을 입력하세요이도영\n"
     ]
    }
   ],
   "source": [
    "a = input('이름을 입력하세요')"
   ]
  },
  {
   "cell_type": "code",
   "execution_count": 16,
   "id": "b3b07d12",
   "metadata": {},
   "outputs": [
    {
     "name": "stdout",
     "output_type": "stream",
     "text": [
      "이도영\n"
     ]
    }
   ],
   "source": [
    "print(a)"
   ]
  },
  {
   "cell_type": "code",
   "execution_count": 17,
   "id": "e8897bd2",
   "metadata": {},
   "outputs": [
    {
     "name": "stdout",
     "output_type": "stream",
     "text": [
      "이도영이도영이도영\n"
     ]
    }
   ],
   "source": [
    "print(a*3)"
   ]
  },
  {
   "cell_type": "code",
   "execution_count": 18,
   "id": "fc633991",
   "metadata": {},
   "outputs": [
    {
     "name": "stdout",
     "output_type": "stream",
     "text": [
      "숫자를 입력하세요10\n"
     ]
    }
   ],
   "source": [
    "b = input('숫자를 입력하세요')"
   ]
  },
  {
   "cell_type": "code",
   "execution_count": 19,
   "id": "75493dd1",
   "metadata": {},
   "outputs": [
    {
     "data": {
      "text/plain": [
       "str"
      ]
     },
     "execution_count": 19,
     "metadata": {},
     "output_type": "execute_result"
    }
   ],
   "source": [
    "type(b)"
   ]
  },
  {
   "cell_type": "code",
   "execution_count": 22,
   "id": "788d4622",
   "metadata": {},
   "outputs": [
    {
     "name": "stdout",
     "output_type": "stream",
     "text": [
      "100\n"
     ]
    }
   ],
   "source": [
    "print(int(b)*10)"
   ]
  },
  {
   "cell_type": "code",
   "execution_count": null,
   "id": "84237da3",
   "metadata": {},
   "outputs": [],
   "source": [
    "a = input('이름을 입력하세요')\n",
    "b = input('소속을 입력하세요')\n",
    "c = input('핸드폰 번호를 입력하세요')"
   ]
  },
  {
   "cell_type": "code",
   "execution_count": 33,
   "id": "0fcd5bd7",
   "metadata": {},
   "outputs": [
    {
     "name": "stdout",
     "output_type": "stream",
     "text": [
      "이름은 이도영 입니다. 소속은 한국공대 이며, 핸드폰 번호는 010-2822-****\n"
     ]
    }
   ],
   "source": [
    "d = c[4:8]\n",
    "print(\"이름은 %s 입니다. 소속은 %s 이며, 핸드폰 번호는 010-%s-****\"%(a,b,d))"
   ]
  },
  {
   "cell_type": "code",
   "execution_count": null,
   "id": "a7d56ce0",
   "metadata": {},
   "outputs": [],
   "source": [
    "print(\"곱하기 하는 Python 코드\")\n",
    "a = input(\"첫 번째 숫자를 입력하세요. : \")\n",
    "b = input(\"두 번째 숫자를 입력하세요. : \")\n",
    "res = int(a) * int(b)    #형 변환 해줘야함\n",
    "\n",
    "print(\"결과\")\n",
    "print(a, '*', b, '=' , res)"
   ]
  }
 ],
 "metadata": {
  "kernelspec": {
   "display_name": "Python 3 (ipykernel)",
   "language": "python",
   "name": "python3"
  },
  "language_info": {
   "codemirror_mode": {
    "name": "ipython",
    "version": 3
   },
   "file_extension": ".py",
   "mimetype": "text/x-python",
   "name": "python",
   "nbconvert_exporter": "python",
   "pygments_lexer": "ipython3",
   "version": "3.9.12"
  }
 },
 "nbformat": 4,
 "nbformat_minor": 5
}
