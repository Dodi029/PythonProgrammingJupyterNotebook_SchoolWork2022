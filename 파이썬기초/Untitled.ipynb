{
 "cells": [
  {
   "cell_type": "code",
   "execution_count": 1,
   "id": "b99e8fa5",
   "metadata": {},
   "outputs": [
    {
     "name": "stdout",
     "output_type": "stream",
     "text": [
      "청소년 할인\n",
      "입장을 환영합니다\n"
     ]
    }
   ],
   "source": [
    "age = 19\n",
    "if age < 20:\n",
    "    print(\"청소년 할인\")\n",
    "    \n",
    "print(\"입장을 환영합니다\")"
   ]
  },
  {
   "cell_type": "code",
   "execution_count": 2,
   "id": "e33484d3",
   "metadata": {},
   "outputs": [
    {
     "name": "stdout",
     "output_type": "stream",
     "text": [
      "입장을 환영합니다\n"
     ]
    }
   ],
   "source": [
    "age = 23\n",
    "if age < 20:\n",
    "    print(\"청소년 할인\")\n",
    "    \n",
    "print(\"입장을 환영합니다\")"
   ]
  },
  {
   "cell_type": "code",
   "execution_count": null,
   "id": "3c1891dc",
   "metadata": {},
   "outputs": [],
   "source": []
  }
 ],
 "metadata": {
  "kernelspec": {
   "display_name": "Python 3 (ipykernel)",
   "language": "python",
   "name": "python3"
  },
  "language_info": {
   "codemirror_mode": {
    "name": "ipython",
    "version": 3
   },
   "file_extension": ".py",
   "mimetype": "text/x-python",
   "name": "python",
   "nbconvert_exporter": "python",
   "pygments_lexer": "ipython3",
   "version": "3.9.12"
  }
 },
 "nbformat": 4,
 "nbformat_minor": 5
}
