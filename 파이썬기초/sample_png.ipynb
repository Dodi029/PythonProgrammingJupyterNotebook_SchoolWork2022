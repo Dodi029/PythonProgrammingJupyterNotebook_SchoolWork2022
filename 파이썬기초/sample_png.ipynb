{
 "cells": [
  {
   "cell_type": "code",
   "execution_count": 1,
   "id": "6bed817a",
   "metadata": {},
   "outputs": [],
   "source": [
    "a=2019150033\n",
    "b=\"한국공학대학교\""
   ]
  },
  {
   "cell_type": "code",
   "execution_count": 2,
   "id": "70b85465",
   "metadata": {},
   "outputs": [],
   "source": [
    "import urllib"
   ]
  },
  {
   "cell_type": "code",
   "execution_count": 3,
   "id": "14666163",
   "metadata": {},
   "outputs": [],
   "source": [
    "from PIL import Image"
   ]
  },
  {
   "cell_type": "code",
   "execution_count": 4,
   "id": "14648df2",
   "metadata": {},
   "outputs": [
    {
     "data": {
      "text/plain": [
       "('sample.png', <http.client.HTTPMessage at 0x7ff431205c70>)"
      ]
     },
     "execution_count": 4,
     "metadata": {},
     "output_type": "execute_result"
    }
   ],
   "source": [
    "urllib.request.urlretrieve(\"https://upload3.inven.co.kr/upload/2020/10/03/bbs/i13516850970.png\", \"sample.png\")"
   ]
  },
  {
   "cell_type": "code",
   "execution_count": 5,
   "id": "c91a98a3",
   "metadata": {},
   "outputs": [],
   "source": [
    "img=Image.open(\"sample.png\")"
   ]
  },
  {
   "cell_type": "code",
   "execution_count": 6,
   "id": "54d38206",
   "metadata": {},
   "outputs": [],
   "source": [
    "d=img"
   ]
  },
  {
   "cell_type": "code",
   "execution_count": 7,
   "id": "c2f4d564",
   "metadata": {},
   "outputs": [
    {
     "data": {
      "text/plain": [
       "<bound method Image.show of <PIL.JpegImagePlugin.JpegImageFile image mode=RGB size=2688x1242 at 0x7FF431210B20>>"
      ]
     },
     "execution_count": 7,
     "metadata": {},
     "output_type": "execute_result"
    }
   ],
   "source": [
    "d.show"
   ]
  }
 ],
 "metadata": {
  "kernelspec": {
   "display_name": "Python 3 (ipykernel)",
   "language": "python",
   "name": "python3"
  },
  "language_info": {
   "codemirror_mode": {
    "name": "ipython",
    "version": 3
   },
   "file_extension": ".py",
   "mimetype": "text/x-python",
   "name": "python",
   "nbconvert_exporter": "python",
   "pygments_lexer": "ipython3",
   "version": "3.9.12"
  }
 },
 "nbformat": 4,
 "nbformat_minor": 5
}
