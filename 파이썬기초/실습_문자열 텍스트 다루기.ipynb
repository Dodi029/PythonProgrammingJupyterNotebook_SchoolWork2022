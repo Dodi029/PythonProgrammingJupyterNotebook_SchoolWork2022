{
 "cells": [
  {
   "cell_type": "code",
   "execution_count": 1,
   "id": "3f9cb1d7",
   "metadata": {},
   "outputs": [],
   "source": [
    "a = \"삼성전자\""
   ]
  },
  {
   "cell_type": "code",
   "execution_count": 2,
   "id": "bec43d18",
   "metadata": {},
   "outputs": [
    {
     "data": {
      "text/plain": [
       "'삼'"
      ]
     },
     "execution_count": 2,
     "metadata": {},
     "output_type": "execute_result"
    }
   ],
   "source": [
    "a[0]"
   ]
  },
  {
   "cell_type": "code",
   "execution_count": 3,
   "id": "27fdfa37",
   "metadata": {},
   "outputs": [
    {
     "data": {
      "text/plain": [
       "'성'"
      ]
     },
     "execution_count": 3,
     "metadata": {},
     "output_type": "execute_result"
    }
   ],
   "source": [
    "a[1]"
   ]
  },
  {
   "cell_type": "code",
   "execution_count": 4,
   "id": "ff434fa6",
   "metadata": {},
   "outputs": [
    {
     "data": {
      "text/plain": [
       "'전'"
      ]
     },
     "execution_count": 4,
     "metadata": {},
     "output_type": "execute_result"
    }
   ],
   "source": [
    "a[2]"
   ]
  },
  {
   "cell_type": "code",
   "execution_count": 10,
   "id": "cddb339f",
   "metadata": {},
   "outputs": [
    {
     "data": {
      "text/plain": [
       "'자'"
      ]
     },
     "execution_count": 10,
     "metadata": {},
     "output_type": "execute_result"
    }
   ],
   "source": [
    "a[3]"
   ]
  },
  {
   "cell_type": "code",
   "execution_count": 25,
   "id": "2bd4d498",
   "metadata": {},
   "outputs": [],
   "source": [
    "a = 'Hello'\n",
    "b = 'World'\n",
    "c = '!!'"
   ]
  },
  {
   "cell_type": "code",
   "execution_count": 26,
   "id": "afbbaeab",
   "metadata": {},
   "outputs": [
    {
     "name": "stdout",
     "output_type": "stream",
     "text": [
      "Hello World!!\n"
     ]
    }
   ],
   "source": [
    "print(a+' '+b+c)"
   ]
  },
  {
   "cell_type": "code",
   "execution_count": null,
   "id": "d1161b94",
   "metadata": {},
   "outputs": [],
   "source": []
  }
 ],
 "metadata": {
  "kernelspec": {
   "display_name": "Python 3 (ipykernel)",
   "language": "python",
   "name": "python3"
  },
  "language_info": {
   "codemirror_mode": {
    "name": "ipython",
    "version": 3
   },
   "file_extension": ".py",
   "mimetype": "text/x-python",
   "name": "python",
   "nbconvert_exporter": "python",
   "pygments_lexer": "ipython3",
   "version": "3.9.12"
  }
 },
 "nbformat": 4,
 "nbformat_minor": 5
}
