{
 "cells": [
  {
   "cell_type": "code",
   "execution_count": 2,
   "id": "17e5626e",
   "metadata": {},
   "outputs": [],
   "source": [
    "a1 = a2 = a3 = a4 = a5 =3.14195"
   ]
  },
  {
   "cell_type": "code",
   "execution_count": 4,
   "id": "709f020e",
   "metadata": {},
   "outputs": [
    {
     "name": "stdout",
     "output_type": "stream",
     "text": [
      "3.14195\n",
      "3.142\n",
      "3.14\n",
      "3.1\n",
      "3\n"
     ]
    }
   ],
   "source": [
    "print(\"%.5f\\n%.3f\\n%.2f\\n%.1f\\n%d\"%(a1,a2,a3,a4,a5))"
   ]
  }
 ],
 "metadata": {
  "kernelspec": {
   "display_name": "Python 3 (ipykernel)",
   "language": "python",
   "name": "python3"
  },
  "language_info": {
   "codemirror_mode": {
    "name": "ipython",
    "version": 3
   },
   "file_extension": ".py",
   "mimetype": "text/x-python",
   "name": "python",
   "nbconvert_exporter": "python",
   "pygments_lexer": "ipython3",
   "version": "3.9.12"
  }
 },
 "nbformat": 4,
 "nbformat_minor": 5
}
