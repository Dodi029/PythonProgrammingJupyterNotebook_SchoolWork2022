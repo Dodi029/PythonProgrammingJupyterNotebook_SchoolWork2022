{
 "cells": [
  {
   "cell_type": "code",
   "execution_count": 1,
   "id": "5ac701b2",
   "metadata": {},
   "outputs": [],
   "source": [
    "data = \"10, '170'\""
   ]
  },
  {
   "cell_type": "code",
   "execution_count": 15,
   "id": "5c99722d",
   "metadata": {},
   "outputs": [
    {
     "data": {
      "text/plain": [
       "['10', \" '170'\"]"
      ]
     },
     "execution_count": 15,
     "metadata": {},
     "output_type": "execute_result"
    }
   ],
   "source": [
    "data.split(',')"
   ]
  },
  {
   "cell_type": "code",
   "execution_count": 19,
   "id": "3b097899",
   "metadata": {},
   "outputs": [
    {
     "data": {
      "text/plain": [
       "\"10, '170'\""
      ]
     },
     "execution_count": 19,
     "metadata": {},
     "output_type": "execute_result"
    }
   ],
   "source": [
    "data.replace('\\\"','')"
   ]
  },
  {
   "cell_type": "code",
   "execution_count": 23,
   "id": "de825ab1",
   "metadata": {},
   "outputs": [
    {
     "data": {
      "text/plain": [
       "[10, 170]"
      ]
     },
     "execution_count": 23,
     "metadata": {},
     "output_type": "execute_result"
    }
   ],
   "source": [
    "data = \"10, '170'\"\n",
    "data = data.split(',')\n",
    "n = 0\n",
    "\n",
    "for i in data:\n",
    "    i = i.strip().strip(\"'\")\n",
    "    data[n] = int(i)\n",
    "    n += 1\n",
    "\n",
    "data"
   ]
  }
 ],
 "metadata": {
  "kernelspec": {
   "display_name": "Python 3 (ipykernel)",
   "language": "python",
   "name": "python3"
  },
  "language_info": {
   "codemirror_mode": {
    "name": "ipython",
    "version": 3
   },
   "file_extension": ".py",
   "mimetype": "text/x-python",
   "name": "python",
   "nbconvert_exporter": "python",
   "pygments_lexer": "ipython3",
   "version": "3.9.12"
  }
 },
 "nbformat": 4,
 "nbformat_minor": 5
}
