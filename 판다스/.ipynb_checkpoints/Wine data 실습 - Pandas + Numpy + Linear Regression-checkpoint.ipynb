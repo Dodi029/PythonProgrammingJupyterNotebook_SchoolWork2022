{
 "cells": [
  {
   "cell_type": "code",
   "execution_count": 66,
   "id": "31468035",
   "metadata": {},
   "outputs": [],
   "source": [
    "import os\n",
    "import numpy as np\n",
    "import pandas as pd\n",
    "import \n",
    "\n",
    "data1 = pd.read_csv('/Users/doyoung/학교/Python_Programming_JupyterNotebook/데이터/wine_quality_1.csv', sep=';')\n",
    "data2 = pd.read_csv('/Users/doyoung/학교/Python_Programming_JupyterNotebook/데이터/wine_quality_2.csv', sep=';')"
   ]
  },
  {
   "cell_type": "code",
   "execution_count": 67,
   "id": "744c4fac",
   "metadata": {},
   "outputs": [
    {
     "data": {
      "text/html": [
       "<div>\n",
       "<style scoped>\n",
       "    .dataframe tbody tr th:only-of-type {\n",
       "        vertical-align: middle;\n",
       "    }\n",
       "\n",
       "    .dataframe tbody tr th {\n",
       "        vertical-align: top;\n",
       "    }\n",
       "\n",
       "    .dataframe thead th {\n",
       "        text-align: right;\n",
       "    }\n",
       "</style>\n",
       "<table border=\"1\" class=\"dataframe\">\n",
       "  <thead>\n",
       "    <tr style=\"text-align: right;\">\n",
       "      <th></th>\n",
       "      <th>chlorides</th>\n",
       "      <th>category</th>\n",
       "      <th>alcohol</th>\n",
       "      <th>pH</th>\n",
       "      <th>total sulfur dioxide</th>\n",
       "      <th>quality</th>\n",
       "      <th>key</th>\n",
       "    </tr>\n",
       "  </thead>\n",
       "  <tbody>\n",
       "    <tr>\n",
       "      <th>0</th>\n",
       "      <td>0.045</td>\n",
       "      <td>white</td>\n",
       "      <td>8.8</td>\n",
       "      <td>3.00</td>\n",
       "      <td>170.0</td>\n",
       "      <td>6</td>\n",
       "      <td>#</td>\n",
       "    </tr>\n",
       "    <tr>\n",
       "      <th>1</th>\n",
       "      <td>0.050</td>\n",
       "      <td>white</td>\n",
       "      <td>10.1</td>\n",
       "      <td>3.26</td>\n",
       "      <td>97.0</td>\n",
       "      <td>6</td>\n",
       "      <td>###</td>\n",
       "    </tr>\n",
       "    <tr>\n",
       "      <th>2</th>\n",
       "      <td>0.058</td>\n",
       "      <td>white</td>\n",
       "      <td>9.9</td>\n",
       "      <td>3.19</td>\n",
       "      <td>186.0</td>\n",
       "      <td>6</td>\n",
       "      <td>####</td>\n",
       "    </tr>\n",
       "    <tr>\n",
       "      <th>3</th>\n",
       "      <td>0.058</td>\n",
       "      <td>white</td>\n",
       "      <td>9.9</td>\n",
       "      <td>3.19</td>\n",
       "      <td>186.0</td>\n",
       "      <td>6</td>\n",
       "      <td>#####</td>\n",
       "    </tr>\n",
       "    <tr>\n",
       "      <th>4</th>\n",
       "      <td>NaN</td>\n",
       "      <td>white</td>\n",
       "      <td>10.1</td>\n",
       "      <td>3.26</td>\n",
       "      <td>97.0</td>\n",
       "      <td>6</td>\n",
       "      <td>######</td>\n",
       "    </tr>\n",
       "  </tbody>\n",
       "</table>\n",
       "</div>"
      ],
      "text/plain": [
       "   chlorides category  alcohol    pH  total sulfur dioxide  quality     key\n",
       "0      0.045    white      8.8  3.00                 170.0        6       #\n",
       "1      0.050    white     10.1  3.26                  97.0        6     ###\n",
       "2      0.058    white      9.9  3.19                 186.0        6    ####\n",
       "3      0.058    white      9.9  3.19                 186.0        6   #####\n",
       "4        NaN    white     10.1  3.26                  97.0        6  ######"
      ]
     },
     "execution_count": 67,
     "metadata": {},
     "output_type": "execute_result"
    }
   ],
   "source": [
    "data1.head()"
   ]
  },
  {
   "cell_type": "code",
   "execution_count": 68,
   "id": "dc4aedeb",
   "metadata": {},
   "outputs": [
    {
     "data": {
      "text/html": [
       "<div>\n",
       "<style scoped>\n",
       "    .dataframe tbody tr th:only-of-type {\n",
       "        vertical-align: middle;\n",
       "    }\n",
       "\n",
       "    .dataframe tbody tr th {\n",
       "        vertical-align: top;\n",
       "    }\n",
       "\n",
       "    .dataframe thead th {\n",
       "        text-align: right;\n",
       "    }\n",
       "</style>\n",
       "<table border=\"1\" class=\"dataframe\">\n",
       "  <thead>\n",
       "    <tr style=\"text-align: right;\">\n",
       "      <th></th>\n",
       "      <th>citric acid</th>\n",
       "      <th>residual sugar</th>\n",
       "      <th>density</th>\n",
       "      <th>volatile acidity</th>\n",
       "      <th>fixed acidity</th>\n",
       "      <th>sulphates</th>\n",
       "      <th>free sulfur dioxide</th>\n",
       "      <th>key</th>\n",
       "    </tr>\n",
       "  </thead>\n",
       "  <tbody>\n",
       "    <tr>\n",
       "      <th>0</th>\n",
       "      <td>0.36</td>\n",
       "      <td>20.7</td>\n",
       "      <td>1.0010</td>\n",
       "      <td>0.27</td>\n",
       "      <td>7.0</td>\n",
       "      <td>0.45</td>\n",
       "      <td>45.0</td>\n",
       "      <td>#</td>\n",
       "    </tr>\n",
       "    <tr>\n",
       "      <th>1</th>\n",
       "      <td>0.40</td>\n",
       "      <td>6.9</td>\n",
       "      <td>0.9951</td>\n",
       "      <td>0.28</td>\n",
       "      <td>8.1</td>\n",
       "      <td>0.44</td>\n",
       "      <td>30.0</td>\n",
       "      <td>###</td>\n",
       "    </tr>\n",
       "    <tr>\n",
       "      <th>2</th>\n",
       "      <td>0.32</td>\n",
       "      <td>8.5</td>\n",
       "      <td>0.9956</td>\n",
       "      <td>0.23</td>\n",
       "      <td>7.2</td>\n",
       "      <td>0.40</td>\n",
       "      <td>47.0</td>\n",
       "      <td>####</td>\n",
       "    </tr>\n",
       "    <tr>\n",
       "      <th>3</th>\n",
       "      <td>0.32</td>\n",
       "      <td>8.5</td>\n",
       "      <td>0.9956</td>\n",
       "      <td>0.23</td>\n",
       "      <td>7.2</td>\n",
       "      <td>0.40</td>\n",
       "      <td>47.0</td>\n",
       "      <td>#####</td>\n",
       "    </tr>\n",
       "    <tr>\n",
       "      <th>4</th>\n",
       "      <td>0.40</td>\n",
       "      <td>6.9</td>\n",
       "      <td>0.9951</td>\n",
       "      <td>0.28</td>\n",
       "      <td>8.1</td>\n",
       "      <td>0.44</td>\n",
       "      <td>30.0</td>\n",
       "      <td>######</td>\n",
       "    </tr>\n",
       "  </tbody>\n",
       "</table>\n",
       "</div>"
      ],
      "text/plain": [
       "   citric acid  residual sugar  density  volatile acidity  fixed acidity  \\\n",
       "0         0.36            20.7   1.0010              0.27            7.0   \n",
       "1         0.40             6.9   0.9951              0.28            8.1   \n",
       "2         0.32             8.5   0.9956              0.23            7.2   \n",
       "3         0.32             8.5   0.9956              0.23            7.2   \n",
       "4         0.40             6.9   0.9951              0.28            8.1   \n",
       "\n",
       "   sulphates  free sulfur dioxide     key  \n",
       "0       0.45                 45.0       #  \n",
       "1       0.44                 30.0     ###  \n",
       "2       0.40                 47.0    ####  \n",
       "3       0.40                 47.0   #####  \n",
       "4       0.44                 30.0  ######  "
      ]
     },
     "execution_count": 68,
     "metadata": {},
     "output_type": "execute_result"
    }
   ],
   "source": [
    "data2.head()"
   ]
  },
  {
   "cell_type": "code",
   "execution_count": 69,
   "id": "2e0e89ee",
   "metadata": {},
   "outputs": [],
   "source": [
    "#전처리\n",
    "data = pd.merge(data1, data2, on='key', how='inner')\n",
    "#교집합 조인"
   ]
  },
  {
   "cell_type": "code",
   "execution_count": 70,
   "id": "78261258",
   "metadata": {},
   "outputs": [
    {
     "data": {
      "text/html": [
       "<div>\n",
       "<style scoped>\n",
       "    .dataframe tbody tr th:only-of-type {\n",
       "        vertical-align: middle;\n",
       "    }\n",
       "\n",
       "    .dataframe tbody tr th {\n",
       "        vertical-align: top;\n",
       "    }\n",
       "\n",
       "    .dataframe thead th {\n",
       "        text-align: right;\n",
       "    }\n",
       "</style>\n",
       "<table border=\"1\" class=\"dataframe\">\n",
       "  <thead>\n",
       "    <tr style=\"text-align: right;\">\n",
       "      <th></th>\n",
       "      <th>chlorides</th>\n",
       "      <th>category</th>\n",
       "      <th>alcohol</th>\n",
       "      <th>pH</th>\n",
       "      <th>total sulfur dioxide</th>\n",
       "      <th>quality</th>\n",
       "      <th>key</th>\n",
       "      <th>citric acid</th>\n",
       "      <th>residual sugar</th>\n",
       "      <th>density</th>\n",
       "      <th>volatile acidity</th>\n",
       "      <th>fixed acidity</th>\n",
       "      <th>sulphates</th>\n",
       "      <th>free sulfur dioxide</th>\n",
       "    </tr>\n",
       "  </thead>\n",
       "  <tbody>\n",
       "    <tr>\n",
       "      <th>0</th>\n",
       "      <td>0.045</td>\n",
       "      <td>white</td>\n",
       "      <td>8.8</td>\n",
       "      <td>3.00</td>\n",
       "      <td>170.0</td>\n",
       "      <td>6</td>\n",
       "      <td>#</td>\n",
       "      <td>0.36</td>\n",
       "      <td>20.7</td>\n",
       "      <td>1.0010</td>\n",
       "      <td>0.27</td>\n",
       "      <td>7.0</td>\n",
       "      <td>0.45</td>\n",
       "      <td>45.0</td>\n",
       "    </tr>\n",
       "    <tr>\n",
       "      <th>1</th>\n",
       "      <td>0.050</td>\n",
       "      <td>white</td>\n",
       "      <td>10.1</td>\n",
       "      <td>3.26</td>\n",
       "      <td>97.0</td>\n",
       "      <td>6</td>\n",
       "      <td>###</td>\n",
       "      <td>0.40</td>\n",
       "      <td>6.9</td>\n",
       "      <td>0.9951</td>\n",
       "      <td>0.28</td>\n",
       "      <td>8.1</td>\n",
       "      <td>0.44</td>\n",
       "      <td>30.0</td>\n",
       "    </tr>\n",
       "    <tr>\n",
       "      <th>2</th>\n",
       "      <td>0.058</td>\n",
       "      <td>white</td>\n",
       "      <td>9.9</td>\n",
       "      <td>3.19</td>\n",
       "      <td>186.0</td>\n",
       "      <td>6</td>\n",
       "      <td>####</td>\n",
       "      <td>0.32</td>\n",
       "      <td>8.5</td>\n",
       "      <td>0.9956</td>\n",
       "      <td>0.23</td>\n",
       "      <td>7.2</td>\n",
       "      <td>0.40</td>\n",
       "      <td>47.0</td>\n",
       "    </tr>\n",
       "    <tr>\n",
       "      <th>3</th>\n",
       "      <td>0.058</td>\n",
       "      <td>white</td>\n",
       "      <td>9.9</td>\n",
       "      <td>3.19</td>\n",
       "      <td>186.0</td>\n",
       "      <td>6</td>\n",
       "      <td>#####</td>\n",
       "      <td>0.32</td>\n",
       "      <td>8.5</td>\n",
       "      <td>0.9956</td>\n",
       "      <td>0.23</td>\n",
       "      <td>7.2</td>\n",
       "      <td>0.40</td>\n",
       "      <td>47.0</td>\n",
       "    </tr>\n",
       "    <tr>\n",
       "      <th>4</th>\n",
       "      <td>NaN</td>\n",
       "      <td>white</td>\n",
       "      <td>10.1</td>\n",
       "      <td>3.26</td>\n",
       "      <td>97.0</td>\n",
       "      <td>6</td>\n",
       "      <td>######</td>\n",
       "      <td>0.40</td>\n",
       "      <td>6.9</td>\n",
       "      <td>0.9951</td>\n",
       "      <td>0.28</td>\n",
       "      <td>8.1</td>\n",
       "      <td>0.44</td>\n",
       "      <td>30.0</td>\n",
       "    </tr>\n",
       "  </tbody>\n",
       "</table>\n",
       "</div>"
      ],
      "text/plain": [
       "   chlorides category  alcohol    pH  total sulfur dioxide  quality     key  \\\n",
       "0      0.045    white      8.8  3.00                 170.0        6       #   \n",
       "1      0.050    white     10.1  3.26                  97.0        6     ###   \n",
       "2      0.058    white      9.9  3.19                 186.0        6    ####   \n",
       "3      0.058    white      9.9  3.19                 186.0        6   #####   \n",
       "4        NaN    white     10.1  3.26                  97.0        6  ######   \n",
       "\n",
       "   citric acid  residual sugar  density  volatile acidity  fixed acidity  \\\n",
       "0         0.36            20.7   1.0010              0.27            7.0   \n",
       "1         0.40             6.9   0.9951              0.28            8.1   \n",
       "2         0.32             8.5   0.9956              0.23            7.2   \n",
       "3         0.32             8.5   0.9956              0.23            7.2   \n",
       "4         0.40             6.9   0.9951              0.28            8.1   \n",
       "\n",
       "   sulphates  free sulfur dioxide  \n",
       "0       0.45                 45.0  \n",
       "1       0.44                 30.0  \n",
       "2       0.40                 47.0  \n",
       "3       0.40                 47.0  \n",
       "4       0.44                 30.0  "
      ]
     },
     "execution_count": 70,
     "metadata": {},
     "output_type": "execute_result"
    }
   ],
   "source": [
    "data.head()"
   ]
  },
  {
   "cell_type": "code",
   "execution_count": 71,
   "id": "2b8fa6fa",
   "metadata": {},
   "outputs": [
    {
     "data": {
      "text/plain": [
       "(6767, 14)"
      ]
     },
     "execution_count": 71,
     "metadata": {},
     "output_type": "execute_result"
    }
   ],
   "source": [
    "data.shape"
   ]
  },
  {
   "cell_type": "code",
   "execution_count": 72,
   "id": "5ffd7cb1",
   "metadata": {},
   "outputs": [
    {
     "name": "stdout",
     "output_type": "stream",
     "text": [
      "<class 'pandas.core.frame.DataFrame'>\n",
      "Int64Index: 6767 entries, 0 to 6766\n",
      "Data columns (total 14 columns):\n",
      " #   Column                Non-Null Count  Dtype  \n",
      "---  ------                --------------  -----  \n",
      " 0   chlorides             6016 non-null   float64\n",
      " 1   category              6767 non-null   object \n",
      " 2   alcohol               6767 non-null   float64\n",
      " 3   pH                    6767 non-null   float64\n",
      " 4   total sulfur dioxide  6767 non-null   float64\n",
      " 5   quality               6767 non-null   int64  \n",
      " 6   key                   6767 non-null   object \n",
      " 7   citric acid           6767 non-null   float64\n",
      " 8   residual sugar        6767 non-null   float64\n",
      " 9   density               6767 non-null   float64\n",
      " 10  volatile acidity      6767 non-null   float64\n",
      " 11  fixed acidity         6767 non-null   float64\n",
      " 12  sulphates             6702 non-null   float64\n",
      " 13  free sulfur dioxide   6767 non-null   float64\n",
      "dtypes: float64(11), int64(1), object(2)\n",
      "memory usage: 793.0+ KB\n"
     ]
    }
   ],
   "source": [
    "data.info()"
   ]
  },
  {
   "cell_type": "code",
   "execution_count": 73,
   "id": "e509ef9a",
   "metadata": {},
   "outputs": [
    {
     "data": {
      "text/plain": [
       "0       False\n",
       "1       False\n",
       "2       False\n",
       "3       False\n",
       "4       False\n",
       "        ...  \n",
       "6762    False\n",
       "6763    False\n",
       "6764    False\n",
       "6765    False\n",
       "6766    False\n",
       "Length: 6767, dtype: bool"
      ]
     },
     "execution_count": 73,
     "metadata": {},
     "output_type": "execute_result"
    }
   ],
   "source": [
    "#duplicated data 확인\n",
    "data.duplicated(keep='first')"
   ]
  },
  {
   "cell_type": "code",
   "execution_count": 74,
   "id": "cc0a2998",
   "metadata": {},
   "outputs": [
    {
     "data": {
      "text/plain": [
       "335"
      ]
     },
     "execution_count": 74,
     "metadata": {},
     "output_type": "execute_result"
    }
   ],
   "source": [
    "data.duplicated(keep='first').sum()"
   ]
  },
  {
   "cell_type": "code",
   "execution_count": 75,
   "id": "54271642",
   "metadata": {},
   "outputs": [],
   "source": [
    "non_dupli_data=data.drop_duplicates(keep='first')\n",
    "# 중복된 데이터 삭제"
   ]
  },
  {
   "cell_type": "code",
   "execution_count": 76,
   "id": "cf95087c",
   "metadata": {},
   "outputs": [
    {
     "data": {
      "text/plain": [
       "335"
      ]
     },
     "execution_count": 76,
     "metadata": {},
     "output_type": "execute_result"
    }
   ],
   "source": [
    "data.shape[0] - non_dupli_data.shape[0]"
   ]
  },
  {
   "cell_type": "code",
   "execution_count": 77,
   "id": "53d7f6d9",
   "metadata": {},
   "outputs": [
    {
     "data": {
      "text/html": [
       "<div>\n",
       "<style scoped>\n",
       "    .dataframe tbody tr th:only-of-type {\n",
       "        vertical-align: middle;\n",
       "    }\n",
       "\n",
       "    .dataframe tbody tr th {\n",
       "        vertical-align: top;\n",
       "    }\n",
       "\n",
       "    .dataframe thead th {\n",
       "        text-align: right;\n",
       "    }\n",
       "</style>\n",
       "<table border=\"1\" class=\"dataframe\">\n",
       "  <thead>\n",
       "    <tr style=\"text-align: right;\">\n",
       "      <th></th>\n",
       "      <th>chlorides</th>\n",
       "      <th>category</th>\n",
       "      <th>alcohol</th>\n",
       "      <th>pH</th>\n",
       "      <th>total sulfur dioxide</th>\n",
       "      <th>quality</th>\n",
       "      <th>key</th>\n",
       "      <th>citric acid</th>\n",
       "      <th>residual sugar</th>\n",
       "      <th>density</th>\n",
       "      <th>volatile acidity</th>\n",
       "      <th>fixed acidity</th>\n",
       "      <th>sulphates</th>\n",
       "      <th>free sulfur dioxide</th>\n",
       "    </tr>\n",
       "  </thead>\n",
       "  <tbody>\n",
       "    <tr>\n",
       "      <th>0</th>\n",
       "      <td>False</td>\n",
       "      <td>False</td>\n",
       "      <td>False</td>\n",
       "      <td>False</td>\n",
       "      <td>False</td>\n",
       "      <td>False</td>\n",
       "      <td>False</td>\n",
       "      <td>False</td>\n",
       "      <td>False</td>\n",
       "      <td>False</td>\n",
       "      <td>False</td>\n",
       "      <td>False</td>\n",
       "      <td>False</td>\n",
       "      <td>False</td>\n",
       "    </tr>\n",
       "    <tr>\n",
       "      <th>1</th>\n",
       "      <td>False</td>\n",
       "      <td>False</td>\n",
       "      <td>False</td>\n",
       "      <td>False</td>\n",
       "      <td>False</td>\n",
       "      <td>False</td>\n",
       "      <td>False</td>\n",
       "      <td>False</td>\n",
       "      <td>False</td>\n",
       "      <td>False</td>\n",
       "      <td>False</td>\n",
       "      <td>False</td>\n",
       "      <td>False</td>\n",
       "      <td>False</td>\n",
       "    </tr>\n",
       "    <tr>\n",
       "      <th>2</th>\n",
       "      <td>False</td>\n",
       "      <td>False</td>\n",
       "      <td>False</td>\n",
       "      <td>False</td>\n",
       "      <td>False</td>\n",
       "      <td>False</td>\n",
       "      <td>False</td>\n",
       "      <td>False</td>\n",
       "      <td>False</td>\n",
       "      <td>False</td>\n",
       "      <td>False</td>\n",
       "      <td>False</td>\n",
       "      <td>False</td>\n",
       "      <td>False</td>\n",
       "    </tr>\n",
       "    <tr>\n",
       "      <th>3</th>\n",
       "      <td>False</td>\n",
       "      <td>False</td>\n",
       "      <td>False</td>\n",
       "      <td>False</td>\n",
       "      <td>False</td>\n",
       "      <td>False</td>\n",
       "      <td>False</td>\n",
       "      <td>False</td>\n",
       "      <td>False</td>\n",
       "      <td>False</td>\n",
       "      <td>False</td>\n",
       "      <td>False</td>\n",
       "      <td>False</td>\n",
       "      <td>False</td>\n",
       "    </tr>\n",
       "    <tr>\n",
       "      <th>4</th>\n",
       "      <td>True</td>\n",
       "      <td>False</td>\n",
       "      <td>False</td>\n",
       "      <td>False</td>\n",
       "      <td>False</td>\n",
       "      <td>False</td>\n",
       "      <td>False</td>\n",
       "      <td>False</td>\n",
       "      <td>False</td>\n",
       "      <td>False</td>\n",
       "      <td>False</td>\n",
       "      <td>False</td>\n",
       "      <td>False</td>\n",
       "      <td>False</td>\n",
       "    </tr>\n",
       "    <tr>\n",
       "      <th>...</th>\n",
       "      <td>...</td>\n",
       "      <td>...</td>\n",
       "      <td>...</td>\n",
       "      <td>...</td>\n",
       "      <td>...</td>\n",
       "      <td>...</td>\n",
       "      <td>...</td>\n",
       "      <td>...</td>\n",
       "      <td>...</td>\n",
       "      <td>...</td>\n",
       "      <td>...</td>\n",
       "      <td>...</td>\n",
       "      <td>...</td>\n",
       "      <td>...</td>\n",
       "    </tr>\n",
       "    <tr>\n",
       "      <th>6762</th>\n",
       "      <td>False</td>\n",
       "      <td>False</td>\n",
       "      <td>False</td>\n",
       "      <td>False</td>\n",
       "      <td>False</td>\n",
       "      <td>False</td>\n",
       "      <td>False</td>\n",
       "      <td>False</td>\n",
       "      <td>False</td>\n",
       "      <td>False</td>\n",
       "      <td>False</td>\n",
       "      <td>False</td>\n",
       "      <td>False</td>\n",
       "      <td>False</td>\n",
       "    </tr>\n",
       "    <tr>\n",
       "      <th>6763</th>\n",
       "      <td>False</td>\n",
       "      <td>False</td>\n",
       "      <td>False</td>\n",
       "      <td>False</td>\n",
       "      <td>False</td>\n",
       "      <td>False</td>\n",
       "      <td>False</td>\n",
       "      <td>False</td>\n",
       "      <td>False</td>\n",
       "      <td>False</td>\n",
       "      <td>False</td>\n",
       "      <td>False</td>\n",
       "      <td>False</td>\n",
       "      <td>False</td>\n",
       "    </tr>\n",
       "    <tr>\n",
       "      <th>6764</th>\n",
       "      <td>False</td>\n",
       "      <td>False</td>\n",
       "      <td>False</td>\n",
       "      <td>False</td>\n",
       "      <td>False</td>\n",
       "      <td>False</td>\n",
       "      <td>False</td>\n",
       "      <td>False</td>\n",
       "      <td>False</td>\n",
       "      <td>False</td>\n",
       "      <td>False</td>\n",
       "      <td>False</td>\n",
       "      <td>False</td>\n",
       "      <td>False</td>\n",
       "    </tr>\n",
       "    <tr>\n",
       "      <th>6765</th>\n",
       "      <td>False</td>\n",
       "      <td>False</td>\n",
       "      <td>False</td>\n",
       "      <td>False</td>\n",
       "      <td>False</td>\n",
       "      <td>False</td>\n",
       "      <td>False</td>\n",
       "      <td>False</td>\n",
       "      <td>False</td>\n",
       "      <td>False</td>\n",
       "      <td>False</td>\n",
       "      <td>False</td>\n",
       "      <td>False</td>\n",
       "      <td>False</td>\n",
       "    </tr>\n",
       "    <tr>\n",
       "      <th>6766</th>\n",
       "      <td>True</td>\n",
       "      <td>False</td>\n",
       "      <td>False</td>\n",
       "      <td>False</td>\n",
       "      <td>False</td>\n",
       "      <td>False</td>\n",
       "      <td>False</td>\n",
       "      <td>False</td>\n",
       "      <td>False</td>\n",
       "      <td>False</td>\n",
       "      <td>False</td>\n",
       "      <td>False</td>\n",
       "      <td>False</td>\n",
       "      <td>False</td>\n",
       "    </tr>\n",
       "  </tbody>\n",
       "</table>\n",
       "<p>6432 rows × 14 columns</p>\n",
       "</div>"
      ],
      "text/plain": [
       "      chlorides  category  alcohol     pH  total sulfur dioxide  quality  \\\n",
       "0         False     False    False  False                 False    False   \n",
       "1         False     False    False  False                 False    False   \n",
       "2         False     False    False  False                 False    False   \n",
       "3         False     False    False  False                 False    False   \n",
       "4          True     False    False  False                 False    False   \n",
       "...         ...       ...      ...    ...                   ...      ...   \n",
       "6762      False     False    False  False                 False    False   \n",
       "6763      False     False    False  False                 False    False   \n",
       "6764      False     False    False  False                 False    False   \n",
       "6765      False     False    False  False                 False    False   \n",
       "6766       True     False    False  False                 False    False   \n",
       "\n",
       "        key  citric acid  residual sugar  density  volatile acidity  \\\n",
       "0     False        False           False    False             False   \n",
       "1     False        False           False    False             False   \n",
       "2     False        False           False    False             False   \n",
       "3     False        False           False    False             False   \n",
       "4     False        False           False    False             False   \n",
       "...     ...          ...             ...      ...               ...   \n",
       "6762  False        False           False    False             False   \n",
       "6763  False        False           False    False             False   \n",
       "6764  False        False           False    False             False   \n",
       "6765  False        False           False    False             False   \n",
       "6766  False        False           False    False             False   \n",
       "\n",
       "      fixed acidity  sulphates  free sulfur dioxide  \n",
       "0             False      False                False  \n",
       "1             False      False                False  \n",
       "2             False      False                False  \n",
       "3             False      False                False  \n",
       "4             False      False                False  \n",
       "...             ...        ...                  ...  \n",
       "6762          False      False                False  \n",
       "6763          False      False                False  \n",
       "6764          False      False                False  \n",
       "6765          False      False                False  \n",
       "6766          False      False                False  \n",
       "\n",
       "[6432 rows x 14 columns]"
      ]
     },
     "execution_count": 77,
     "metadata": {},
     "output_type": "execute_result"
    }
   ],
   "source": [
    "#missing value 확이;ㄴ\n",
    "non_dupli_data.isna()"
   ]
  },
  {
   "cell_type": "code",
   "execution_count": 78,
   "id": "1327fa34",
   "metadata": {},
   "outputs": [
    {
     "data": {
      "text/plain": [
       "chlorides                True\n",
       "category                False\n",
       "alcohol                 False\n",
       "pH                      False\n",
       "total sulfur dioxide    False\n",
       "quality                 False\n",
       "key                     False\n",
       "citric acid             False\n",
       "residual sugar          False\n",
       "density                 False\n",
       "volatile acidity        False\n",
       "fixed acidity           False\n",
       "sulphates                True\n",
       "free sulfur dioxide     False\n",
       "dtype: bool"
      ]
     },
     "execution_count": 78,
     "metadata": {},
     "output_type": "execute_result"
    }
   ],
   "source": [
    "non_dupli_data.isna().any()"
   ]
  },
  {
   "cell_type": "code",
   "execution_count": 79,
   "id": "0329d241",
   "metadata": {},
   "outputs": [
    {
     "data": {
      "text/plain": [
       "chlorides    0.109764\n",
       "sulphates    0.010106\n",
       "dtype: float64"
      ]
     },
     "execution_count": 79,
     "metadata": {},
     "output_type": "execute_result"
    }
   ],
   "source": [
    "#missing value 개수 확인\n",
    "non_dupli_data.loc[:,non_dupli_data.isna().any()].isna().mean()"
   ]
  },
  {
   "cell_type": "code",
   "execution_count": 80,
   "id": "57613261",
   "metadata": {},
   "outputs": [
    {
     "data": {
      "text/plain": [
       "(6432, 14)"
      ]
     },
     "execution_count": 80,
     "metadata": {},
     "output_type": "execute_result"
    }
   ],
   "source": [
    "non_dupli_data.shape"
   ]
  },
  {
   "cell_type": "code",
   "execution_count": 81,
   "id": "6bcb441b",
   "metadata": {},
   "outputs": [],
   "source": [
    "non_dupli_data2 = non_dupli_data.drop(['chlorides'],axis=1)"
   ]
  },
  {
   "cell_type": "code",
   "execution_count": 82,
   "id": "52689625",
   "metadata": {},
   "outputs": [],
   "source": [
    "non_dupli_data2.fillna(method = 'ffill',inplace=True)"
   ]
  },
  {
   "cell_type": "code",
   "execution_count": 83,
   "id": "a167f16d",
   "metadata": {},
   "outputs": [
    {
     "data": {
      "text/plain": [
       "category                False\n",
       "alcohol                 False\n",
       "pH                      False\n",
       "total sulfur dioxide    False\n",
       "quality                 False\n",
       "key                     False\n",
       "citric acid             False\n",
       "residual sugar          False\n",
       "density                 False\n",
       "volatile acidity        False\n",
       "fixed acidity           False\n",
       "sulphates               False\n",
       "free sulfur dioxide     False\n",
       "dtype: bool"
      ]
     },
     "execution_count": 83,
     "metadata": {},
     "output_type": "execute_result"
    }
   ],
   "source": [
    "non_dupli_data2.isnull().any()\n",
    "#모든 변수에 missing value가 없음"
   ]
  },
  {
   "cell_type": "code",
   "execution_count": 84,
   "id": "c6c9578f",
   "metadata": {},
   "outputs": [
    {
     "name": "stdout",
     "output_type": "stream",
     "text": [
      "<class 'pandas.core.frame.DataFrame'>\n",
      "Int64Index: 6432 entries, 0 to 6766\n",
      "Data columns (total 13 columns):\n",
      " #   Column                Non-Null Count  Dtype  \n",
      "---  ------                --------------  -----  \n",
      " 0   category              6432 non-null   object \n",
      " 1   alcohol               6432 non-null   float64\n",
      " 2   pH                    6432 non-null   float64\n",
      " 3   total sulfur dioxide  6432 non-null   float64\n",
      " 4   quality               6432 non-null   int64  \n",
      " 5   key                   6432 non-null   object \n",
      " 6   citric acid           6432 non-null   float64\n",
      " 7   residual sugar        6432 non-null   float64\n",
      " 8   density               6432 non-null   float64\n",
      " 9   volatile acidity      6432 non-null   float64\n",
      " 10  fixed acidity         6432 non-null   float64\n",
      " 11  sulphates             6432 non-null   float64\n",
      " 12  free sulfur dioxide   6432 non-null   float64\n",
      "dtypes: float64(10), int64(1), object(2)\n",
      "memory usage: 703.5+ KB\n"
     ]
    }
   ],
   "source": [
    "#데이터 탐색 - 변수 별 산포 및 관계성 확인\n",
    "non_dupli_data2.info()"
   ]
  },
  {
   "cell_type": "code",
   "execution_count": 85,
   "id": "50ac8bcb",
   "metadata": {},
   "outputs": [
    {
     "data": {
      "text/plain": [
       "0       white\n",
       "1       white\n",
       "2       white\n",
       "3       white\n",
       "4       white\n",
       "        ...  \n",
       "6762      red\n",
       "6763      red\n",
       "6764      red\n",
       "6765      red\n",
       "6766      red\n",
       "Name: category, Length: 6432, dtype: object"
      ]
     },
     "execution_count": 85,
     "metadata": {},
     "output_type": "execute_result"
    }
   ],
   "source": [
    "non_dupli_data2['category']"
   ]
  },
  {
   "cell_type": "code",
   "execution_count": 86,
   "id": "62e163a3",
   "metadata": {},
   "outputs": [
    {
     "data": {
      "text/html": [
       "<div>\n",
       "<style scoped>\n",
       "    .dataframe tbody tr th:only-of-type {\n",
       "        vertical-align: middle;\n",
       "    }\n",
       "\n",
       "    .dataframe tbody tr th {\n",
       "        vertical-align: top;\n",
       "    }\n",
       "\n",
       "    .dataframe thead th {\n",
       "        text-align: right;\n",
       "    }\n",
       "</style>\n",
       "<table border=\"1\" class=\"dataframe\">\n",
       "  <thead>\n",
       "    <tr style=\"text-align: right;\">\n",
       "      <th></th>\n",
       "      <th>alcohol</th>\n",
       "      <th>pH</th>\n",
       "      <th>total sulfur dioxide</th>\n",
       "      <th>quality</th>\n",
       "      <th>citric acid</th>\n",
       "      <th>residual sugar</th>\n",
       "      <th>density</th>\n",
       "      <th>volatile acidity</th>\n",
       "      <th>fixed acidity</th>\n",
       "      <th>sulphates</th>\n",
       "      <th>free sulfur dioxide</th>\n",
       "    </tr>\n",
       "  </thead>\n",
       "  <tbody>\n",
       "    <tr>\n",
       "      <th>count</th>\n",
       "      <td>6432.000000</td>\n",
       "      <td>6432.000000</td>\n",
       "      <td>6432.000000</td>\n",
       "      <td>6432.000000</td>\n",
       "      <td>6432.000000</td>\n",
       "      <td>6432.000000</td>\n",
       "      <td>6432.000000</td>\n",
       "      <td>6432.000000</td>\n",
       "      <td>6432.000000</td>\n",
       "      <td>6432.000000</td>\n",
       "      <td>6432.000000</td>\n",
       "    </tr>\n",
       "    <tr>\n",
       "      <th>mean</th>\n",
       "      <td>10.491679</td>\n",
       "      <td>3.218428</td>\n",
       "      <td>115.753187</td>\n",
       "      <td>5.819807</td>\n",
       "      <td>0.318792</td>\n",
       "      <td>5.451594</td>\n",
       "      <td>0.994703</td>\n",
       "      <td>0.339572</td>\n",
       "      <td>7.218975</td>\n",
       "      <td>0.531283</td>\n",
       "      <td>30.526819</td>\n",
       "    </tr>\n",
       "    <tr>\n",
       "      <th>std</th>\n",
       "      <td>1.192811</td>\n",
       "      <td>0.160939</td>\n",
       "      <td>56.535810</td>\n",
       "      <td>0.873259</td>\n",
       "      <td>0.145373</td>\n",
       "      <td>4.753323</td>\n",
       "      <td>0.002997</td>\n",
       "      <td>0.164656</td>\n",
       "      <td>1.297484</td>\n",
       "      <td>0.149411</td>\n",
       "      <td>17.717277</td>\n",
       "    </tr>\n",
       "    <tr>\n",
       "      <th>min</th>\n",
       "      <td>8.000000</td>\n",
       "      <td>2.720000</td>\n",
       "      <td>6.000000</td>\n",
       "      <td>3.000000</td>\n",
       "      <td>0.000000</td>\n",
       "      <td>0.600000</td>\n",
       "      <td>0.987110</td>\n",
       "      <td>0.080000</td>\n",
       "      <td>3.800000</td>\n",
       "      <td>0.220000</td>\n",
       "      <td>1.000000</td>\n",
       "    </tr>\n",
       "    <tr>\n",
       "      <th>25%</th>\n",
       "      <td>9.500000</td>\n",
       "      <td>3.110000</td>\n",
       "      <td>77.000000</td>\n",
       "      <td>5.000000</td>\n",
       "      <td>0.250000</td>\n",
       "      <td>1.800000</td>\n",
       "      <td>0.992358</td>\n",
       "      <td>0.230000</td>\n",
       "      <td>6.400000</td>\n",
       "      <td>0.430000</td>\n",
       "      <td>17.000000</td>\n",
       "    </tr>\n",
       "    <tr>\n",
       "      <th>50%</th>\n",
       "      <td>10.300000</td>\n",
       "      <td>3.210000</td>\n",
       "      <td>118.000000</td>\n",
       "      <td>6.000000</td>\n",
       "      <td>0.310000</td>\n",
       "      <td>3.000000</td>\n",
       "      <td>0.994890</td>\n",
       "      <td>0.290000</td>\n",
       "      <td>7.000000</td>\n",
       "      <td>0.510000</td>\n",
       "      <td>29.000000</td>\n",
       "    </tr>\n",
       "    <tr>\n",
       "      <th>75%</th>\n",
       "      <td>11.300000</td>\n",
       "      <td>3.320000</td>\n",
       "      <td>156.000000</td>\n",
       "      <td>6.000000</td>\n",
       "      <td>0.390000</td>\n",
       "      <td>8.100000</td>\n",
       "      <td>0.997000</td>\n",
       "      <td>0.400000</td>\n",
       "      <td>7.700000</td>\n",
       "      <td>0.600000</td>\n",
       "      <td>41.000000</td>\n",
       "    </tr>\n",
       "    <tr>\n",
       "      <th>max</th>\n",
       "      <td>14.900000</td>\n",
       "      <td>4.010000</td>\n",
       "      <td>440.000000</td>\n",
       "      <td>9.000000</td>\n",
       "      <td>1.660000</td>\n",
       "      <td>65.800000</td>\n",
       "      <td>1.038980</td>\n",
       "      <td>1.580000</td>\n",
       "      <td>15.900000</td>\n",
       "      <td>2.000000</td>\n",
       "      <td>289.000000</td>\n",
       "    </tr>\n",
       "  </tbody>\n",
       "</table>\n",
       "</div>"
      ],
      "text/plain": [
       "           alcohol           pH  total sulfur dioxide      quality  \\\n",
       "count  6432.000000  6432.000000           6432.000000  6432.000000   \n",
       "mean     10.491679     3.218428            115.753187     5.819807   \n",
       "std       1.192811     0.160939             56.535810     0.873259   \n",
       "min       8.000000     2.720000              6.000000     3.000000   \n",
       "25%       9.500000     3.110000             77.000000     5.000000   \n",
       "50%      10.300000     3.210000            118.000000     6.000000   \n",
       "75%      11.300000     3.320000            156.000000     6.000000   \n",
       "max      14.900000     4.010000            440.000000     9.000000   \n",
       "\n",
       "       citric acid  residual sugar      density  volatile acidity  \\\n",
       "count  6432.000000     6432.000000  6432.000000       6432.000000   \n",
       "mean      0.318792        5.451594     0.994703          0.339572   \n",
       "std       0.145373        4.753323     0.002997          0.164656   \n",
       "min       0.000000        0.600000     0.987110          0.080000   \n",
       "25%       0.250000        1.800000     0.992358          0.230000   \n",
       "50%       0.310000        3.000000     0.994890          0.290000   \n",
       "75%       0.390000        8.100000     0.997000          0.400000   \n",
       "max       1.660000       65.800000     1.038980          1.580000   \n",
       "\n",
       "       fixed acidity    sulphates  free sulfur dioxide  \n",
       "count    6432.000000  6432.000000          6432.000000  \n",
       "mean        7.218975     0.531283            30.526819  \n",
       "std         1.297484     0.149411            17.717277  \n",
       "min         3.800000     0.220000             1.000000  \n",
       "25%         6.400000     0.430000            17.000000  \n",
       "50%         7.000000     0.510000            29.000000  \n",
       "75%         7.700000     0.600000            41.000000  \n",
       "max        15.900000     2.000000           289.000000  "
      ]
     },
     "execution_count": 86,
     "metadata": {},
     "output_type": "execute_result"
    }
   ],
   "source": [
    "non_dupli_data2.describe()"
   ]
  },
  {
   "cell_type": "code",
   "execution_count": 87,
   "id": "31d838e2",
   "metadata": {},
   "outputs": [
    {
     "data": {
      "text/html": [
       "<div>\n",
       "<style scoped>\n",
       "    .dataframe tbody tr th:only-of-type {\n",
       "        vertical-align: middle;\n",
       "    }\n",
       "\n",
       "    .dataframe tbody tr th {\n",
       "        vertical-align: top;\n",
       "    }\n",
       "\n",
       "    .dataframe thead th {\n",
       "        text-align: right;\n",
       "    }\n",
       "</style>\n",
       "<table border=\"1\" class=\"dataframe\">\n",
       "  <thead>\n",
       "    <tr style=\"text-align: right;\">\n",
       "      <th></th>\n",
       "      <th>count</th>\n",
       "      <th>mean</th>\n",
       "      <th>std</th>\n",
       "      <th>min</th>\n",
       "      <th>25%</th>\n",
       "      <th>50%</th>\n",
       "      <th>75%</th>\n",
       "      <th>max</th>\n",
       "    </tr>\n",
       "    <tr>\n",
       "      <th>category</th>\n",
       "      <th></th>\n",
       "      <th></th>\n",
       "      <th></th>\n",
       "      <th></th>\n",
       "      <th></th>\n",
       "      <th></th>\n",
       "      <th></th>\n",
       "      <th></th>\n",
       "    </tr>\n",
       "  </thead>\n",
       "  <tbody>\n",
       "    <tr>\n",
       "      <th>red</th>\n",
       "      <td>1582.0</td>\n",
       "      <td>5.638432</td>\n",
       "      <td>0.809175</td>\n",
       "      <td>3.0</td>\n",
       "      <td>5.0</td>\n",
       "      <td>6.0</td>\n",
       "      <td>6.0</td>\n",
       "      <td>8.0</td>\n",
       "    </tr>\n",
       "    <tr>\n",
       "      <th>white</th>\n",
       "      <td>4850.0</td>\n",
       "      <td>5.878969</td>\n",
       "      <td>0.885244</td>\n",
       "      <td>3.0</td>\n",
       "      <td>5.0</td>\n",
       "      <td>6.0</td>\n",
       "      <td>6.0</td>\n",
       "      <td>9.0</td>\n",
       "    </tr>\n",
       "  </tbody>\n",
       "</table>\n",
       "</div>"
      ],
      "text/plain": [
       "           count      mean       std  min  25%  50%  75%  max\n",
       "category                                                     \n",
       "red       1582.0  5.638432  0.809175  3.0  5.0  6.0  6.0  8.0\n",
       "white     4850.0  5.878969  0.885244  3.0  5.0  6.0  6.0  9.0"
      ]
     },
     "execution_count": 87,
     "metadata": {},
     "output_type": "execute_result"
    }
   ],
   "source": [
    "#와인 종류에 따른 통계\n",
    "non_dupli_data2.groupby(['category'])['quality'].describe()"
   ]
  },
  {
   "cell_type": "code",
   "execution_count": 88,
   "id": "4ea6a234",
   "metadata": {},
   "outputs": [
    {
     "data": {
      "text/html": [
       "<div>\n",
       "<style scoped>\n",
       "    .dataframe tbody tr th:only-of-type {\n",
       "        vertical-align: middle;\n",
       "    }\n",
       "\n",
       "    .dataframe tbody tr th {\n",
       "        vertical-align: top;\n",
       "    }\n",
       "\n",
       "    .dataframe thead th {\n",
       "        text-align: right;\n",
       "    }\n",
       "</style>\n",
       "<table border=\"1\" class=\"dataframe\">\n",
       "  <thead>\n",
       "    <tr style=\"text-align: right;\">\n",
       "      <th></th>\n",
       "      <th>count</th>\n",
       "      <th>mean</th>\n",
       "      <th>std</th>\n",
       "      <th>min</th>\n",
       "      <th>25%</th>\n",
       "      <th>50%</th>\n",
       "      <th>75%</th>\n",
       "      <th>max</th>\n",
       "    </tr>\n",
       "    <tr>\n",
       "      <th>category</th>\n",
       "      <th></th>\n",
       "      <th></th>\n",
       "      <th></th>\n",
       "      <th></th>\n",
       "      <th></th>\n",
       "      <th></th>\n",
       "      <th></th>\n",
       "      <th></th>\n",
       "    </tr>\n",
       "  </thead>\n",
       "  <tbody>\n",
       "    <tr>\n",
       "      <th>red</th>\n",
       "      <td>1582.0</td>\n",
       "      <td>3.311820</td>\n",
       "      <td>0.15426</td>\n",
       "      <td>2.74</td>\n",
       "      <td>3.21</td>\n",
       "      <td>3.31</td>\n",
       "      <td>3.40</td>\n",
       "      <td>4.01</td>\n",
       "    </tr>\n",
       "    <tr>\n",
       "      <th>white</th>\n",
       "      <td>4850.0</td>\n",
       "      <td>3.187965</td>\n",
       "      <td>0.15106</td>\n",
       "      <td>2.72</td>\n",
       "      <td>3.08</td>\n",
       "      <td>3.18</td>\n",
       "      <td>3.28</td>\n",
       "      <td>3.82</td>\n",
       "    </tr>\n",
       "  </tbody>\n",
       "</table>\n",
       "</div>"
      ],
      "text/plain": [
       "           count      mean      std   min   25%   50%   75%   max\n",
       "category                                                         \n",
       "red       1582.0  3.311820  0.15426  2.74  3.21  3.31  3.40  4.01\n",
       "white     4850.0  3.187965  0.15106  2.72  3.08  3.18  3.28  3.82"
      ]
     },
     "execution_count": 88,
     "metadata": {},
     "output_type": "execute_result"
    }
   ],
   "source": [
    "#와인 종류에 따른 통계\n",
    "non_dupli_data2.groupby(['category'])['pH'].describe()"
   ]
  },
  {
   "cell_type": "code",
   "execution_count": 89,
   "id": "044e7a49",
   "metadata": {},
   "outputs": [
    {
     "data": {
      "text/plain": [
       "array([[<AxesSubplot:title={'center':'alcohol'}>,\n",
       "        <AxesSubplot:title={'center':'pH'}>,\n",
       "        <AxesSubplot:title={'center':'total sulfur dioxide'}>],\n",
       "       [<AxesSubplot:title={'center':'quality'}>,\n",
       "        <AxesSubplot:title={'center':'citric acid'}>,\n",
       "        <AxesSubplot:title={'center':'residual sugar'}>],\n",
       "       [<AxesSubplot:title={'center':'density'}>,\n",
       "        <AxesSubplot:title={'center':'volatile acidity'}>,\n",
       "        <AxesSubplot:title={'center':'fixed acidity'}>],\n",
       "       [<AxesSubplot:title={'center':'sulphates'}>,\n",
       "        <AxesSubplot:title={'center':'free sulfur dioxide'}>,\n",
       "        <AxesSubplot:>]], dtype=object)"
      ]
     },
     "execution_count": 89,
     "metadata": {},
     "output_type": "execute_result"
    },
    {
     "data": {
      "image/png": "[encoded data removed]",
      "text/plain": [
       "<Figure size 432x288 with 12 Axes>"
      ]
     },
     "metadata": {
      "needs_background": "light"
     },
     "output_type": "display_data"
    }
   ],
   "source": [
    "non_dupli_data2.hist(bins=30)"
   ]
  },
  {
   "cell_type": "code",
   "execution_count": 90,
   "id": "c78f7164",
   "metadata": {},
   "outputs": [
    {
     "data": {
      "image/png": "[encoded data removed]",
      "text/plain": [
       "<Figure size 432x288 with 12 Axes>"
      ]
     },
     "metadata": {
      "needs_background": "light"
     },
     "output_type": "display_data"
    }
   ],
   "source": [
    "non_dupli_data2.hist(bins=30);\n",
    "#describe 제거 - 붙어있는 설명 제거"
   ]
  },
  {
   "cell_type": "code",
   "execution_count": 91,
   "id": "80c562df",
   "metadata": {},
   "outputs": [
    {
     "data": {
      "image/png": "[encoded data removed]",
      "text/plain": [
       "<Figure size 1440x720 with 12 Axes>"
      ]
     },
     "metadata": {
      "needs_background": "light"
     },
     "output_type": "display_data"
    }
   ],
   "source": [
    "non_dupli_data2.hist(bins=30,figsize=(20,10));"
   ]
  },
  {
   "cell_type": "code",
   "execution_count": 92,
   "id": "a931829f",
   "metadata": {},
   "outputs": [
    {
     "data": {
      "image/png": "[encoded data removed]",
      "text/plain": [
       "<Figure size 1440x720 with 12 Axes>"
      ]
     },
     "metadata": {
      "needs_background": "light"
     },
     "output_type": "display_data"
    },
    {
     "data": {
      "image/png": "[encoded data removed]",
      "text/plain": [
       "<Figure size 1440x720 with 12 Axes>"
      ]
     },
     "metadata": {
      "needs_background": "light"
     },
     "output_type": "display_data"
    }
   ],
   "source": [
    "non_dupli_data2[non_dupli_data2['category']=='red'].hist(bins=100,figsize=(20,10), color='b');\n",
    "non_dupli_data2[non_dupli_data2['category']=='white'].hist(bins=100,figsize=(20,10), color='g');"
   ]
  },
  {
   "cell_type": "code",
   "execution_count": 93,
   "id": "aed506f4",
   "metadata": {},
   "outputs": [
    {
     "name": "stdout",
     "output_type": "stream",
     "text": [
      "<class 'pandas.core.frame.DataFrame'>\n",
      "Int64Index: 6432 entries, 0 to 6766\n",
      "Data columns (total 13 columns):\n",
      " #   Column                Non-Null Count  Dtype  \n",
      "---  ------                --------------  -----  \n",
      " 0   category              6432 non-null   object \n",
      " 1   alcohol               6432 non-null   float64\n",
      " 2   pH                    6432 non-null   float64\n",
      " 3   total sulfur dioxide  6432 non-null   float64\n",
      " 4   quality               6432 non-null   int64  \n",
      " 5   key                   6432 non-null   object \n",
      " 6   citric acid           6432 non-null   float64\n",
      " 7   residual sugar        6432 non-null   float64\n",
      " 8   density               6432 non-null   float64\n",
      " 9   volatile acidity      6432 non-null   float64\n",
      " 10  fixed acidity         6432 non-null   float64\n",
      " 11  sulphates             6432 non-null   float64\n",
      " 12  free sulfur dioxide   6432 non-null   float64\n",
      "dtypes: float64(10), int64(1), object(2)\n",
      "memory usage: 703.5+ KB\n"
     ]
    }
   ],
   "source": [
    "#변수 유형 확인 및 변경\n",
    "non_dupli_data2.info()"
   ]
  },
  {
   "cell_type": "code",
   "execution_count": 94,
   "id": "238542a1",
   "metadata": {},
   "outputs": [],
   "source": [
    "non_dupli_data2.drop(['key'],axis=1,inplace=True)"
   ]
  },
  {
   "cell_type": "code",
   "execution_count": 95,
   "id": "ec7bda9f",
   "metadata": {},
   "outputs": [
    {
     "data": {
      "text/html": [
       "<div>\n",
       "<style scoped>\n",
       "    .dataframe tbody tr th:only-of-type {\n",
       "        vertical-align: middle;\n",
       "    }\n",
       "\n",
       "    .dataframe tbody tr th {\n",
       "        vertical-align: top;\n",
       "    }\n",
       "\n",
       "    .dataframe thead th {\n",
       "        text-align: right;\n",
       "    }\n",
       "</style>\n",
       "<table border=\"1\" class=\"dataframe\">\n",
       "  <thead>\n",
       "    <tr style=\"text-align: right;\">\n",
       "      <th></th>\n",
       "      <th>category</th>\n",
       "      <th>alcohol</th>\n",
       "      <th>pH</th>\n",
       "      <th>total sulfur dioxide</th>\n",
       "      <th>quality</th>\n",
       "      <th>citric acid</th>\n",
       "      <th>residual sugar</th>\n",
       "      <th>density</th>\n",
       "      <th>volatile acidity</th>\n",
       "      <th>fixed acidity</th>\n",
       "      <th>sulphates</th>\n",
       "      <th>free sulfur dioxide</th>\n",
       "    </tr>\n",
       "  </thead>\n",
       "  <tbody>\n",
       "    <tr>\n",
       "      <th>0</th>\n",
       "      <td>white</td>\n",
       "      <td>8.8</td>\n",
       "      <td>3.00</td>\n",
       "      <td>170.0</td>\n",
       "      <td>6</td>\n",
       "      <td>0.36</td>\n",
       "      <td>20.7</td>\n",
       "      <td>1.0010</td>\n",
       "      <td>0.27</td>\n",
       "      <td>7.0</td>\n",
       "      <td>0.45</td>\n",
       "      <td>45.0</td>\n",
       "    </tr>\n",
       "    <tr>\n",
       "      <th>1</th>\n",
       "      <td>white</td>\n",
       "      <td>10.1</td>\n",
       "      <td>3.26</td>\n",
       "      <td>97.0</td>\n",
       "      <td>6</td>\n",
       "      <td>0.40</td>\n",
       "      <td>6.9</td>\n",
       "      <td>0.9951</td>\n",
       "      <td>0.28</td>\n",
       "      <td>8.1</td>\n",
       "      <td>0.44</td>\n",
       "      <td>30.0</td>\n",
       "    </tr>\n",
       "    <tr>\n",
       "      <th>2</th>\n",
       "      <td>white</td>\n",
       "      <td>9.9</td>\n",
       "      <td>3.19</td>\n",
       "      <td>186.0</td>\n",
       "      <td>6</td>\n",
       "      <td>0.32</td>\n",
       "      <td>8.5</td>\n",
       "      <td>0.9956</td>\n",
       "      <td>0.23</td>\n",
       "      <td>7.2</td>\n",
       "      <td>0.40</td>\n",
       "      <td>47.0</td>\n",
       "    </tr>\n",
       "    <tr>\n",
       "      <th>3</th>\n",
       "      <td>white</td>\n",
       "      <td>9.9</td>\n",
       "      <td>3.19</td>\n",
       "      <td>186.0</td>\n",
       "      <td>6</td>\n",
       "      <td>0.32</td>\n",
       "      <td>8.5</td>\n",
       "      <td>0.9956</td>\n",
       "      <td>0.23</td>\n",
       "      <td>7.2</td>\n",
       "      <td>0.40</td>\n",
       "      <td>47.0</td>\n",
       "    </tr>\n",
       "    <tr>\n",
       "      <th>4</th>\n",
       "      <td>white</td>\n",
       "      <td>10.1</td>\n",
       "      <td>3.26</td>\n",
       "      <td>97.0</td>\n",
       "      <td>6</td>\n",
       "      <td>0.40</td>\n",
       "      <td>6.9</td>\n",
       "      <td>0.9951</td>\n",
       "      <td>0.28</td>\n",
       "      <td>8.1</td>\n",
       "      <td>0.44</td>\n",
       "      <td>30.0</td>\n",
       "    </tr>\n",
       "  </tbody>\n",
       "</table>\n",
       "</div>"
      ],
      "text/plain": [
       "  category  alcohol    pH  total sulfur dioxide  quality  citric acid  \\\n",
       "0    white      8.8  3.00                 170.0        6         0.36   \n",
       "1    white     10.1  3.26                  97.0        6         0.40   \n",
       "2    white      9.9  3.19                 186.0        6         0.32   \n",
       "3    white      9.9  3.19                 186.0        6         0.32   \n",
       "4    white     10.1  3.26                  97.0        6         0.40   \n",
       "\n",
       "   residual sugar  density  volatile acidity  fixed acidity  sulphates  \\\n",
       "0            20.7   1.0010              0.27            7.0       0.45   \n",
       "1             6.9   0.9951              0.28            8.1       0.44   \n",
       "2             8.5   0.9956              0.23            7.2       0.40   \n",
       "3             8.5   0.9956              0.23            7.2       0.40   \n",
       "4             6.9   0.9951              0.28            8.1       0.44   \n",
       "\n",
       "   free sulfur dioxide  \n",
       "0                 45.0  \n",
       "1                 30.0  \n",
       "2                 47.0  \n",
       "3                 47.0  \n",
       "4                 30.0  "
      ]
     },
     "execution_count": 95,
     "metadata": {},
     "output_type": "execute_result"
    }
   ],
   "source": [
    "non_dupli_data2.head()"
   ]
  },
  {
   "cell_type": "code",
   "execution_count": 96,
   "id": "a7aca591",
   "metadata": {},
   "outputs": [
    {
     "data": {
      "text/plain": [
       "array(['white', 'red'], dtype=object)"
      ]
     },
     "execution_count": 96,
     "metadata": {},
     "output_type": "execute_result"
    }
   ],
   "source": [
    "non_dupli_data2['category'].unique()"
   ]
  },
  {
   "cell_type": "code",
   "execution_count": 97,
   "id": "f4ac6aa5",
   "metadata": {},
   "outputs": [],
   "source": [
    "non_dupli_data3 = pd.get_dummies(non_dupli_data2)"
   ]
  },
  {
   "cell_type": "code",
   "execution_count": 98,
   "id": "8590e964",
   "metadata": {},
   "outputs": [
    {
     "data": {
      "text/html": [
       "<div>\n",
       "<style scoped>\n",
       "    .dataframe tbody tr th:only-of-type {\n",
       "        vertical-align: middle;\n",
       "    }\n",
       "\n",
       "    .dataframe tbody tr th {\n",
       "        vertical-align: top;\n",
       "    }\n",
       "\n",
       "    .dataframe thead th {\n",
       "        text-align: right;\n",
       "    }\n",
       "</style>\n",
       "<table border=\"1\" class=\"dataframe\">\n",
       "  <thead>\n",
       "    <tr style=\"text-align: right;\">\n",
       "      <th></th>\n",
       "      <th>alcohol</th>\n",
       "      <th>pH</th>\n",
       "      <th>total sulfur dioxide</th>\n",
       "      <th>quality</th>\n",
       "      <th>citric acid</th>\n",
       "      <th>residual sugar</th>\n",
       "      <th>density</th>\n",
       "      <th>volatile acidity</th>\n",
       "      <th>fixed acidity</th>\n",
       "      <th>sulphates</th>\n",
       "      <th>free sulfur dioxide</th>\n",
       "      <th>category_red</th>\n",
       "      <th>category_white</th>\n",
       "    </tr>\n",
       "  </thead>\n",
       "  <tbody>\n",
       "    <tr>\n",
       "      <th>0</th>\n",
       "      <td>8.8</td>\n",
       "      <td>3.00</td>\n",
       "      <td>170.0</td>\n",
       "      <td>6</td>\n",
       "      <td>0.36</td>\n",
       "      <td>20.7</td>\n",
       "      <td>1.0010</td>\n",
       "      <td>0.27</td>\n",
       "      <td>7.0</td>\n",
       "      <td>0.45</td>\n",
       "      <td>45.0</td>\n",
       "      <td>0</td>\n",
       "      <td>1</td>\n",
       "    </tr>\n",
       "    <tr>\n",
       "      <th>1</th>\n",
       "      <td>10.1</td>\n",
       "      <td>3.26</td>\n",
       "      <td>97.0</td>\n",
       "      <td>6</td>\n",
       "      <td>0.40</td>\n",
       "      <td>6.9</td>\n",
       "      <td>0.9951</td>\n",
       "      <td>0.28</td>\n",
       "      <td>8.1</td>\n",
       "      <td>0.44</td>\n",
       "      <td>30.0</td>\n",
       "      <td>0</td>\n",
       "      <td>1</td>\n",
       "    </tr>\n",
       "    <tr>\n",
       "      <th>2</th>\n",
       "      <td>9.9</td>\n",
       "      <td>3.19</td>\n",
       "      <td>186.0</td>\n",
       "      <td>6</td>\n",
       "      <td>0.32</td>\n",
       "      <td>8.5</td>\n",
       "      <td>0.9956</td>\n",
       "      <td>0.23</td>\n",
       "      <td>7.2</td>\n",
       "      <td>0.40</td>\n",
       "      <td>47.0</td>\n",
       "      <td>0</td>\n",
       "      <td>1</td>\n",
       "    </tr>\n",
       "    <tr>\n",
       "      <th>3</th>\n",
       "      <td>9.9</td>\n",
       "      <td>3.19</td>\n",
       "      <td>186.0</td>\n",
       "      <td>6</td>\n",
       "      <td>0.32</td>\n",
       "      <td>8.5</td>\n",
       "      <td>0.9956</td>\n",
       "      <td>0.23</td>\n",
       "      <td>7.2</td>\n",
       "      <td>0.40</td>\n",
       "      <td>47.0</td>\n",
       "      <td>0</td>\n",
       "      <td>1</td>\n",
       "    </tr>\n",
       "    <tr>\n",
       "      <th>4</th>\n",
       "      <td>10.1</td>\n",
       "      <td>3.26</td>\n",
       "      <td>97.0</td>\n",
       "      <td>6</td>\n",
       "      <td>0.40</td>\n",
       "      <td>6.9</td>\n",
       "      <td>0.9951</td>\n",
       "      <td>0.28</td>\n",
       "      <td>8.1</td>\n",
       "      <td>0.44</td>\n",
       "      <td>30.0</td>\n",
       "      <td>0</td>\n",
       "      <td>1</td>\n",
       "    </tr>\n",
       "  </tbody>\n",
       "</table>\n",
       "</div>"
      ],
      "text/plain": [
       "   alcohol    pH  total sulfur dioxide  quality  citric acid  residual sugar  \\\n",
       "0      8.8  3.00                 170.0        6         0.36            20.7   \n",
       "1     10.1  3.26                  97.0        6         0.40             6.9   \n",
       "2      9.9  3.19                 186.0        6         0.32             8.5   \n",
       "3      9.9  3.19                 186.0        6         0.32             8.5   \n",
       "4     10.1  3.26                  97.0        6         0.40             6.9   \n",
       "\n",
       "   density  volatile acidity  fixed acidity  sulphates  free sulfur dioxide  \\\n",
       "0   1.0010              0.27            7.0       0.45                 45.0   \n",
       "1   0.9951              0.28            8.1       0.44                 30.0   \n",
       "2   0.9956              0.23            7.2       0.40                 47.0   \n",
       "3   0.9956              0.23            7.2       0.40                 47.0   \n",
       "4   0.9951              0.28            8.1       0.44                 30.0   \n",
       "\n",
       "   category_red  category_white  \n",
       "0             0               1  \n",
       "1             0               1  \n",
       "2             0               1  \n",
       "3             0               1  \n",
       "4             0               1  "
      ]
     },
     "execution_count": 98,
     "metadata": {},
     "output_type": "execute_result"
    }
   ],
   "source": [
    "non_dupli_data3.head()"
   ]
  },
  {
   "cell_type": "code",
   "execution_count": 128,
   "id": "cf78d199",
   "metadata": {},
   "outputs": [],
   "source": [
    "#Multiple Linear Regression 을 위한 Training & Test 구성 , MLR Class, 평가지표 설정 \n",
    "#(1) X and Y split\n",
    "Y = non_dupli_data3['quality']\n",
    "X = non_dupli_data3.drop(['quality'],axis=1)"
   ]
  },
  {
   "cell_type": "code",
   "execution_count": 141,
   "id": "50951245",
   "metadata": {},
   "outputs": [],
   "source": [
    "def train_test_split(X,Y,test_size=0.25,random=False,random_seed=None):\n",
    "    X = np.array(X)\n",
    "    Y = np.array(Y)\n",
    "    \n",
    "    indices = np.array(range(len(X)))\n",
    "    \n",
    "    test_size_len = round(test_size * len(X))\n",
    "    \n",
    "    if random ==True:\n",
    "        if random_seed != None:\n",
    "            random_generator = np.random.RandomState(seed=random_seed)\n",
    "            random_generator.shuffle(indices)\n",
    "            \n",
    "        else:\n",
    "            np.random.shuffle(indices)\n",
    "            \n",
    "        test_indices = indices[0:test_size_len]\n",
    "        train_indices = indices[test_size_len:]\n",
    "        \n",
    "        X_train = X[train_indices, :]\n",
    "        X_test = X[test_indices, :]\n",
    "        Y_train = Y[train_indices]\n",
    "        Y_test = Y[test_indices]\n",
    "        \n",
    "    else:\n",
    "        test_indices = indices[0:(len(X)-test_size_len)]\n",
    "        train_indices = indices[(len(X)-test_size_len):]\n",
    "        \n",
    "        X_train = X[train_indices, :]\n",
    "        X_test = X[test_indices, :]\n",
    "        Y_train = Y[train_indices]\n",
    "        Y_test = Y[test_indices]\n",
    "        \n",
    "    return X_train,X_test, Y_train, Y_test"
   ]
  },
  {
   "cell_type": "code",
   "execution_count": 150,
   "id": "d81e6467",
   "metadata": {},
   "outputs": [],
   "source": [
    "#Multiple Linear Regression Calss\n",
    "class MLR:\n",
    "    def __init__(self, intercept=True):\n",
    "        self.coef_ = None\n",
    "        self.intercept=intercept\n",
    "        \n",
    "    def fit(self, input_X, output_Y):\n",
    "        if self.intercept==True:\n",
    "            new_input_X = self.intercept_add(input_X)\n",
    "            self.coef_ = np.linalg.inv(new_input_X.transpose()@new_input_X)@new_input_X.transpose()@output_Y\n",
    "        else:\n",
    "            new_input_X = input_X\n",
    "            self.coef_ = np.linalg.inv(new_input_X.transpose()@new_input_X)@new_input_X.transpose()@output_Y\n",
    "    \n",
    "    def intercept_add(self, input_X):\n",
    "        ones = np.ones(input_X.shape[0]).reshape(-1,1)\n",
    "        result = np.concatenate([ones, input_X],axis=1)\n",
    "        \n",
    "        return result\n",
    "    \n",
    "    def predict(self, X_test):\n",
    "        if self.intercept==True:\n",
    "            new_X_test = self.intercept_add(X_test)\n",
    "            pred_test = new_X_test@self.coef_.reshape(-1,1)\n",
    "        else:\n",
    "            new_X_test = X_test\n",
    "            pred_test = new_X_test@self.coef_.reshape(-1,1)\n",
    "            \n",
    "        return pred_test"
   ]
  },
  {
   "cell_type": "code",
   "execution_count": 151,
   "id": "8be35aa9",
   "metadata": {},
   "outputs": [],
   "source": [
    "#Evaluation Metric\n",
    "class Mertic:\n",
    "    def __init__(self):\n",
    "        self.mse_result=0\n",
    "        self.mape_result=0\n",
    "        \n",
    "    def MSE(self, true_y, pred_y):\n",
    "        residual = true_y-pred_y\n",
    "        self.mse_result = np.mean(residual**2)\n",
    "        \n",
    "        return self.mse_result\n",
    "    \n",
    "    def MAPE(self, true_y, pred_y):\n",
    "        residual = true_y - pred_y\n",
    "        results = (np.abs(residual)/true_y)*100\n",
    "        self.mape_result = np.mean(results)\n",
    "        \n",
    "        return self.mape_result"
   ]
  },
  {
   "cell_type": "code",
   "execution_count": 152,
   "id": "5948abb8",
   "metadata": {},
   "outputs": [],
   "source": [
    "#MLR Training & Prediction\n",
    "X_train,X_test,Y_train,Y_test = train_test_split(X,Y,test_size=0.2,random = True,random_seed=3)"
   ]
  },
  {
   "cell_type": "code",
   "execution_count": 153,
   "id": "d3fa9bbf",
   "metadata": {},
   "outputs": [],
   "source": [
    "LR = MLR(intercept=True)"
   ]
  },
  {
   "cell_type": "code",
   "execution_count": 154,
   "id": "e3f6ae65",
   "metadata": {},
   "outputs": [],
   "source": [
    "LR.fit(X_train, Y_train)"
   ]
  },
  {
   "cell_type": "code",
   "execution_count": 155,
   "id": "2124c57c",
   "metadata": {},
   "outputs": [
    {
     "data": {
      "text/plain": [
       "array([-1.98876436e+04,  2.59283236e+01, -3.42033734e+01,  2.19067670e-01,\n",
       "       -2.56858613e+02, -6.71552730e+00,  2.01259290e+04, -1.10039344e+02,\n",
       "       -4.80112212e+00, -4.96137273e+01, -1.63601839e-02, -1.03521484e+02,\n",
       "       -9.21884766e+01])"
      ]
     },
     "execution_count": 155,
     "metadata": {},
     "output_type": "execute_result"
    }
   ],
   "source": [
    "LR.coef_"
   ]
  },
  {
   "cell_type": "code",
   "execution_count": 156,
   "id": "cd024ed9",
   "metadata": {},
   "outputs": [
    {
     "ename": "NameError",
     "evalue": "name 'plt' is not defined",
     "output_type": "error",
     "traceback": [
      "\u001b[0;31m---------------------------------------------------------------------------\u001b[0m",
      "\u001b[0;31mNameError\u001b[0m                                 Traceback (most recent call last)",
      "Input \u001b[0;32mIn [156]\u001b[0m, in \u001b[0;36m<cell line: 2>\u001b[0;34m()\u001b[0m\n\u001b[1;32m      1\u001b[0m \u001b[38;5;66;03m#학습된 선형회귀 가중치 확인\u001b[39;00m\n\u001b[0;32m----> 2\u001b[0m \u001b[43mplt\u001b[49m\u001b[38;5;241m.\u001b[39mfigure(figsize\u001b[38;5;241m=\u001b[39m[\u001b[38;5;241m18\u001b[39m,\u001b[38;5;241m5\u001b[39m])\n\u001b[1;32m      3\u001b[0m plt\u001b[38;5;241m.\u001b[39mbar(x \u001b[38;5;241m=\u001b[39m X\u001b[38;5;241m.\u001b[39mcolums\u001b[38;5;241m.\u001b[39mvalues,height \u001b[38;5;241m=\u001b[39m LR\u001b[38;5;241m.\u001b[39mcoef_[\u001b[38;5;241m1\u001b[39m:])\n",
      "\u001b[0;31mNameError\u001b[0m: name 'plt' is not defined"
     ]
    }
   ],
   "source": [
    "#학습된 선형회귀 가중치 확인\n",
    "plt.figure(figsize=[18,5])\n",
    "plt.bar(x = X.colums.values,height = LR.coef_[1:]);"
   ]
  },
  {
   "cell_type": "code",
   "execution_count": 157,
   "id": "905649ba",
   "metadata": {},
   "outputs": [],
   "source": [
    "#각 모델에 대한\n",
    "pred = LR.predict(X_test)"
   ]
  },
  {
   "cell_type": "code",
   "execution_count": 159,
   "id": "dc163500",
   "metadata": {},
   "outputs": [],
   "source": [
    "evaluator = Mertic()"
   ]
  },
  {
   "cell_type": "code",
   "execution_count": 160,
   "id": "dc63481d",
   "metadata": {},
   "outputs": [],
   "source": [
    "mse = evaluator.MSE(pred, Y_test)\n",
    "mape = evaluator.MAPE(pred, Y_test)"
   ]
  },
  {
   "cell_type": "code",
   "execution_count": 163,
   "id": "dc2e5d52",
   "metadata": {},
   "outputs": [
    {
     "name": "stdout",
     "output_type": "stream",
     "text": [
      "MSE 결과 : 1167.1, MAPE 결과 : -44.5\n"
     ]
    }
   ],
   "source": [
    "print('MSE 결과 : {:.1f}, MAPE 결과 : {:.1f}'.format(mse,mape))"
   ]
  },
  {
   "cell_type": "code",
   "execution_count": null,
   "id": "4ca9231d",
   "metadata": {},
   "outputs": [],
   "source": []
  }
 ],
 "metadata": {
  "kernelspec": {
   "display_name": "Python 3 (ipykernel)",
   "language": "python",
   "name": "python3"
  },
  "language_info": {
   "codemirror_mode": {
    "name": "ipython",
    "version": 3
   },
   "file_extension": ".py",
   "mimetype": "text/x-python",
   "name": "python",
   "nbconvert_exporter": "python",
   "pygments_lexer": "ipython3",
   "version": "3.9.12"
  }
 },
 "nbformat": 4,
 "nbformat_minor": 5
}
